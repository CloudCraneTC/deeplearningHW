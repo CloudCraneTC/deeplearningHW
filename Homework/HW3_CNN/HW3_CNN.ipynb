{
  "cells": [
    {
      "cell_type": "code",
      "source": [
        "from google.colab import drive\n",
        "drive.mount('/content/drive')"
      ],
      "metadata": {
        "colab": {
          "base_uri": "https://localhost:8080/"
        },
        "id": "ZZn6nNZ9Rmep",
        "outputId": "17be03dc-d8e2-470d-8d53-d7eea2f1dec7"
      },
      "execution_count": 9,
      "outputs": [
        {
          "output_type": "stream",
          "name": "stdout",
          "text": [
            "Drive already mounted at /content/drive; to attempt to forcibly remount, call drive.mount(\"/content/drive\", force_remount=True).\n"
          ]
        }
      ]
    },
    {
      "cell_type": "markdown",
      "source": [],
      "metadata": {
        "id": "UIyPJfYfEdPE"
      }
    },
    {
      "cell_type": "code",
      "source": [
        "!mkdir -p \"/content/drive/MyDrive/HW3\"\n",
        "!gdown -O \"/content/drive/MyDrive/HW3/food11.zip\" \"https://www.dropbox.com/s/6l2vcvxl54b0b6w/food11.zip?dl=1\""
      ],
      "metadata": {
        "colab": {
          "base_uri": "https://localhost:8080/"
        },
        "id": "zpA426l-WFf0",
        "outputId": "8a3352ee-6376-482f-a3d5-9504755dff03"
      },
      "execution_count": null,
      "outputs": [
        {
          "output_type": "stream",
          "name": "stdout",
          "text": [
            "Downloading...\n",
            "From: https://www.dropbox.com/s/6l2vcvxl54b0b6w/food11.zip?dl=1\n",
            "To: /content/drive/MyDrive/HW3/food11.zip\n",
            " 59% 685M/1.16G [00:09<00:06, 73.0MB/s]"
          ]
        }
      ]
    },
    {
      "cell_type": "markdown",
      "metadata": {
        "id": "T8b00VMJRkD0"
      },
      "source": [
        "#  &#x1F4D1; HW3 图像分类"
      ]
    },
    {
      "cell_type": "markdown",
      "metadata": {
        "id": "YoVMBTyrRkD2"
      },
      "source": [
        "# 下载数据\n",
        "如果https://www.dropbox.com/s/6l2vcvxl54b0b6w/food11.zip 下载不了可以用以下途径下载数据\n",
        "- [百度网盘下载(提取码：ml22)](https://pan.baidu.com/s/1ZeCvuPh1Oc2EwoVkdXlL0g)\n",
        "- [Kaggle Data: ml2022spring-hw3b](https://www.kaggle.com/competitions/ml2022spring-hw3b/data)"
      ]
    },
    {
      "cell_type": "markdown",
      "metadata": {
        "id": "2HjsFintRkD2"
      },
      "source": [
        "# 加载包"
      ]
    },
    {
      "cell_type": "code",
      "execution_count": 2,
      "metadata": {
        "execution": {
          "iopub.execute_input": "2022-12-01T14:13:58.216499Z",
          "iopub.status.busy": "2022-12-01T14:13:58.216131Z",
          "iopub.status.idle": "2022-12-01T14:14:11.905238Z",
          "shell.execute_reply": "2022-12-01T14:14:11.904027Z",
          "shell.execute_reply.started": "2022-12-01T14:13:58.216469Z"
        },
        "colab": {
          "base_uri": "https://localhost:8080/"
        },
        "id": "-HM1GfaJRkD2",
        "outputId": "6b1f17f3-f0dc-446f-8f1a-58afb8a3073d"
      },
      "outputs": [
        {
          "output_type": "stream",
          "name": "stdout",
          "text": [
            "Collecting torchviz\n",
            "  Downloading torchviz-0.0.3-py3-none-any.whl.metadata (2.1 kB)\n",
            "Requirement already satisfied: torch in /usr/local/lib/python3.11/dist-packages (from torchviz) (2.5.1+cu124)\n",
            "Requirement already satisfied: graphviz in /usr/local/lib/python3.11/dist-packages (from torchviz) (0.20.3)\n",
            "Requirement already satisfied: filelock in /usr/local/lib/python3.11/dist-packages (from torch->torchviz) (3.17.0)\n",
            "Requirement already satisfied: typing-extensions>=4.8.0 in /usr/local/lib/python3.11/dist-packages (from torch->torchviz) (4.12.2)\n",
            "Requirement already satisfied: networkx in /usr/local/lib/python3.11/dist-packages (from torch->torchviz) (3.4.2)\n",
            "Requirement already satisfied: jinja2 in /usr/local/lib/python3.11/dist-packages (from torch->torchviz) (3.1.5)\n",
            "Requirement already satisfied: fsspec in /usr/local/lib/python3.11/dist-packages (from torch->torchviz) (2024.10.0)\n",
            "Collecting nvidia-cuda-nvrtc-cu12==12.4.127 (from torch->torchviz)\n",
            "  Downloading nvidia_cuda_nvrtc_cu12-12.4.127-py3-none-manylinux2014_x86_64.whl.metadata (1.5 kB)\n",
            "Collecting nvidia-cuda-runtime-cu12==12.4.127 (from torch->torchviz)\n",
            "  Downloading nvidia_cuda_runtime_cu12-12.4.127-py3-none-manylinux2014_x86_64.whl.metadata (1.5 kB)\n",
            "Collecting nvidia-cuda-cupti-cu12==12.4.127 (from torch->torchviz)\n",
            "  Downloading nvidia_cuda_cupti_cu12-12.4.127-py3-none-manylinux2014_x86_64.whl.metadata (1.6 kB)\n",
            "Collecting nvidia-cudnn-cu12==9.1.0.70 (from torch->torchviz)\n",
            "  Downloading nvidia_cudnn_cu12-9.1.0.70-py3-none-manylinux2014_x86_64.whl.metadata (1.6 kB)\n",
            "Collecting nvidia-cublas-cu12==12.4.5.8 (from torch->torchviz)\n",
            "  Downloading nvidia_cublas_cu12-12.4.5.8-py3-none-manylinux2014_x86_64.whl.metadata (1.5 kB)\n",
            "Collecting nvidia-cufft-cu12==11.2.1.3 (from torch->torchviz)\n",
            "  Downloading nvidia_cufft_cu12-11.2.1.3-py3-none-manylinux2014_x86_64.whl.metadata (1.5 kB)\n",
            "Collecting nvidia-curand-cu12==10.3.5.147 (from torch->torchviz)\n",
            "  Downloading nvidia_curand_cu12-10.3.5.147-py3-none-manylinux2014_x86_64.whl.metadata (1.5 kB)\n",
            "Collecting nvidia-cusolver-cu12==11.6.1.9 (from torch->torchviz)\n",
            "  Downloading nvidia_cusolver_cu12-11.6.1.9-py3-none-manylinux2014_x86_64.whl.metadata (1.6 kB)\n",
            "Collecting nvidia-cusparse-cu12==12.3.1.170 (from torch->torchviz)\n",
            "  Downloading nvidia_cusparse_cu12-12.3.1.170-py3-none-manylinux2014_x86_64.whl.metadata (1.6 kB)\n",
            "Requirement already satisfied: nvidia-nccl-cu12==2.21.5 in /usr/local/lib/python3.11/dist-packages (from torch->torchviz) (2.21.5)\n",
            "Requirement already satisfied: nvidia-nvtx-cu12==12.4.127 in /usr/local/lib/python3.11/dist-packages (from torch->torchviz) (12.4.127)\n",
            "Collecting nvidia-nvjitlink-cu12==12.4.127 (from torch->torchviz)\n",
            "  Downloading nvidia_nvjitlink_cu12-12.4.127-py3-none-manylinux2014_x86_64.whl.metadata (1.5 kB)\n",
            "Requirement already satisfied: triton==3.1.0 in /usr/local/lib/python3.11/dist-packages (from torch->torchviz) (3.1.0)\n",
            "Requirement already satisfied: sympy==1.13.1 in /usr/local/lib/python3.11/dist-packages (from torch->torchviz) (1.13.1)\n",
            "Requirement already satisfied: mpmath<1.4,>=1.1.0 in /usr/local/lib/python3.11/dist-packages (from sympy==1.13.1->torch->torchviz) (1.3.0)\n",
            "Requirement already satisfied: MarkupSafe>=2.0 in /usr/local/lib/python3.11/dist-packages (from jinja2->torch->torchviz) (3.0.2)\n",
            "Downloading torchviz-0.0.3-py3-none-any.whl (5.7 kB)\n",
            "Downloading nvidia_cublas_cu12-12.4.5.8-py3-none-manylinux2014_x86_64.whl (363.4 MB)\n",
            "\u001b[2K   \u001b[90m━━━━━━━━━━━━━━━━━━━━━━━━━━━━━━━━━━━━━━━━\u001b[0m \u001b[32m363.4/363.4 MB\u001b[0m \u001b[31m3.8 MB/s\u001b[0m eta \u001b[36m0:00:00\u001b[0m\n",
            "\u001b[?25hDownloading nvidia_cuda_cupti_cu12-12.4.127-py3-none-manylinux2014_x86_64.whl (13.8 MB)\n",
            "\u001b[2K   \u001b[90m━━━━━━━━━━━━━━━━━━━━━━━━━━━━━━━━━━━━━━━━\u001b[0m \u001b[32m13.8/13.8 MB\u001b[0m \u001b[31m76.1 MB/s\u001b[0m eta \u001b[36m0:00:00\u001b[0m\n",
            "\u001b[?25hDownloading nvidia_cuda_nvrtc_cu12-12.4.127-py3-none-manylinux2014_x86_64.whl (24.6 MB)\n",
            "\u001b[2K   \u001b[90m━━━━━━━━━━━━━━━━━━━━━━━━━━━━━━━━━━━━━━━━\u001b[0m \u001b[32m24.6/24.6 MB\u001b[0m \u001b[31m59.4 MB/s\u001b[0m eta \u001b[36m0:00:00\u001b[0m\n",
            "\u001b[?25hDownloading nvidia_cuda_runtime_cu12-12.4.127-py3-none-manylinux2014_x86_64.whl (883 kB)\n",
            "\u001b[2K   \u001b[90m━━━━━━━━━━━━━━━━━━━━━━━━━━━━━━━━━━━━━━━━\u001b[0m \u001b[32m883.7/883.7 kB\u001b[0m \u001b[31m47.2 MB/s\u001b[0m eta \u001b[36m0:00:00\u001b[0m\n",
            "\u001b[?25hDownloading nvidia_cudnn_cu12-9.1.0.70-py3-none-manylinux2014_x86_64.whl (664.8 MB)\n",
            "\u001b[2K   \u001b[90m━━━━━━━━━━━━━━━━━━━━━━━━━━━━━━━━━━━━━━━━\u001b[0m \u001b[32m664.8/664.8 MB\u001b[0m \u001b[31m1.3 MB/s\u001b[0m eta \u001b[36m0:00:00\u001b[0m\n",
            "\u001b[?25hDownloading nvidia_cufft_cu12-11.2.1.3-py3-none-manylinux2014_x86_64.whl (211.5 MB)\n",
            "\u001b[2K   \u001b[90m━━━━━━━━━━━━━━━━━━━━━━━━━━━━━━━━━━━━━━━━\u001b[0m \u001b[32m211.5/211.5 MB\u001b[0m \u001b[31m5.8 MB/s\u001b[0m eta \u001b[36m0:00:00\u001b[0m\n",
            "\u001b[?25hDownloading nvidia_curand_cu12-10.3.5.147-py3-none-manylinux2014_x86_64.whl (56.3 MB)\n",
            "\u001b[2K   \u001b[90m━━━━━━━━━━━━━━━━━━━━━━━━━━━━━━━━━━━━━━━━\u001b[0m \u001b[32m56.3/56.3 MB\u001b[0m \u001b[31m12.5 MB/s\u001b[0m eta \u001b[36m0:00:00\u001b[0m\n",
            "\u001b[?25hDownloading nvidia_cusolver_cu12-11.6.1.9-py3-none-manylinux2014_x86_64.whl (127.9 MB)\n",
            "\u001b[2K   \u001b[90m━━━━━━━━━━━━━━━━━━━━━━━━━━━━━━━━━━━━━━━━\u001b[0m \u001b[32m127.9/127.9 MB\u001b[0m \u001b[31m7.0 MB/s\u001b[0m eta \u001b[36m0:00:00\u001b[0m\n",
            "\u001b[?25hDownloading nvidia_cusparse_cu12-12.3.1.170-py3-none-manylinux2014_x86_64.whl (207.5 MB)\n",
            "\u001b[2K   \u001b[90m━━━━━━━━━━━━━━━━━━━━━━━━━━━━━━━━━━━━━━━━\u001b[0m \u001b[32m207.5/207.5 MB\u001b[0m \u001b[31m6.8 MB/s\u001b[0m eta \u001b[36m0:00:00\u001b[0m\n",
            "\u001b[?25hDownloading nvidia_nvjitlink_cu12-12.4.127-py3-none-manylinux2014_x86_64.whl (21.1 MB)\n",
            "\u001b[2K   \u001b[90m━━━━━━━━━━━━━━━━━━━━━━━━━━━━━━━━━━━━━━━━\u001b[0m \u001b[32m21.1/21.1 MB\u001b[0m \u001b[31m91.3 MB/s\u001b[0m eta \u001b[36m0:00:00\u001b[0m\n",
            "\u001b[?25hInstalling collected packages: nvidia-nvjitlink-cu12, nvidia-curand-cu12, nvidia-cufft-cu12, nvidia-cuda-runtime-cu12, nvidia-cuda-nvrtc-cu12, nvidia-cuda-cupti-cu12, nvidia-cublas-cu12, nvidia-cusparse-cu12, nvidia-cudnn-cu12, nvidia-cusolver-cu12, torchviz\n",
            "  Attempting uninstall: nvidia-nvjitlink-cu12\n",
            "    Found existing installation: nvidia-nvjitlink-cu12 12.5.82\n",
            "    Uninstalling nvidia-nvjitlink-cu12-12.5.82:\n",
            "      Successfully uninstalled nvidia-nvjitlink-cu12-12.5.82\n",
            "  Attempting uninstall: nvidia-curand-cu12\n",
            "    Found existing installation: nvidia-curand-cu12 10.3.6.82\n",
            "    Uninstalling nvidia-curand-cu12-10.3.6.82:\n",
            "      Successfully uninstalled nvidia-curand-cu12-10.3.6.82\n",
            "  Attempting uninstall: nvidia-cufft-cu12\n",
            "    Found existing installation: nvidia-cufft-cu12 11.2.3.61\n",
            "    Uninstalling nvidia-cufft-cu12-11.2.3.61:\n",
            "      Successfully uninstalled nvidia-cufft-cu12-11.2.3.61\n",
            "  Attempting uninstall: nvidia-cuda-runtime-cu12\n",
            "    Found existing installation: nvidia-cuda-runtime-cu12 12.5.82\n",
            "    Uninstalling nvidia-cuda-runtime-cu12-12.5.82:\n",
            "      Successfully uninstalled nvidia-cuda-runtime-cu12-12.5.82\n",
            "  Attempting uninstall: nvidia-cuda-nvrtc-cu12\n",
            "    Found existing installation: nvidia-cuda-nvrtc-cu12 12.5.82\n",
            "    Uninstalling nvidia-cuda-nvrtc-cu12-12.5.82:\n",
            "      Successfully uninstalled nvidia-cuda-nvrtc-cu12-12.5.82\n",
            "  Attempting uninstall: nvidia-cuda-cupti-cu12\n",
            "    Found existing installation: nvidia-cuda-cupti-cu12 12.5.82\n",
            "    Uninstalling nvidia-cuda-cupti-cu12-12.5.82:\n",
            "      Successfully uninstalled nvidia-cuda-cupti-cu12-12.5.82\n",
            "  Attempting uninstall: nvidia-cublas-cu12\n",
            "    Found existing installation: nvidia-cublas-cu12 12.5.3.2\n",
            "    Uninstalling nvidia-cublas-cu12-12.5.3.2:\n",
            "      Successfully uninstalled nvidia-cublas-cu12-12.5.3.2\n",
            "  Attempting uninstall: nvidia-cusparse-cu12\n",
            "    Found existing installation: nvidia-cusparse-cu12 12.5.1.3\n",
            "    Uninstalling nvidia-cusparse-cu12-12.5.1.3:\n",
            "      Successfully uninstalled nvidia-cusparse-cu12-12.5.1.3\n",
            "  Attempting uninstall: nvidia-cudnn-cu12\n",
            "    Found existing installation: nvidia-cudnn-cu12 9.3.0.75\n",
            "    Uninstalling nvidia-cudnn-cu12-9.3.0.75:\n",
            "      Successfully uninstalled nvidia-cudnn-cu12-9.3.0.75\n",
            "  Attempting uninstall: nvidia-cusolver-cu12\n",
            "    Found existing installation: nvidia-cusolver-cu12 11.6.3.83\n",
            "    Uninstalling nvidia-cusolver-cu12-11.6.3.83:\n",
            "      Successfully uninstalled nvidia-cusolver-cu12-11.6.3.83\n",
            "Successfully installed nvidia-cublas-cu12-12.4.5.8 nvidia-cuda-cupti-cu12-12.4.127 nvidia-cuda-nvrtc-cu12-12.4.127 nvidia-cuda-runtime-cu12-12.4.127 nvidia-cudnn-cu12-9.1.0.70 nvidia-cufft-cu12-11.2.1.3 nvidia-curand-cu12-10.3.5.147 nvidia-cusolver-cu12-11.6.1.9 nvidia-cusparse-cu12-12.3.1.170 nvidia-nvjitlink-cu12-12.4.127 torchviz-0.0.3\n"
          ]
        }
      ],
      "source": [
        "!pip install torchviz"
      ]
    },
    {
      "cell_type": "code",
      "execution_count": 27,
      "metadata": {
        "_cell_guid": "b1076dfc-b9ad-4769-8c92-a6c4dae69d19",
        "_uuid": "8f2839f25d086af736a60e9eeb907d3b93b6e0e5",
        "execution": {
          "iopub.execute_input": "2022-12-01T14:14:11.908546Z",
          "iopub.status.busy": "2022-12-01T14:14:11.908144Z",
          "iopub.status.idle": "2022-12-01T14:14:12.243030Z",
          "shell.execute_reply": "2022-12-01T14:14:12.242035Z",
          "shell.execute_reply.started": "2022-12-01T14:14:11.908502Z"
        },
        "id": "_9SOvealRkD3"
      },
      "outputs": [],
      "source": [
        "import numpy as np\n",
        "import pandas as pd\n",
        "import torch\n",
        "import math\n",
        "import os\n",
        "import random\n",
        "import torch.nn as nn\n",
        "import torchvision.transforms as transforms\n",
        "from PIL import Image\n",
        "import matplotlib.pyplot as plt\n",
        "from torchviz import make_dot\n",
        "# \"ConcatDataset\" 和\"Subset\" 会在半监督学习的数据用到\n",
        "from torch.utils.data import ConcatDataset, DataLoader, Subset, Dataset\n",
        "from torchvision.datasets import DatasetFolder, VisionDataset\n",
        "\n",
        "# 用于显示进度条\n",
        "from tqdm.auto import tqdm\n",
        "from tqdm import tqdm\n",
        "import random\n",
        "\n",
        "# 绘制评估曲线\n",
        "from torch.utils.tensorboard import SummaryWriter"
      ]
    },
    {
      "cell_type": "markdown",
      "metadata": {
        "id": "1ikfuxtBRkD4"
      },
      "source": [
        "# **一些重要的函数**"
      ]
    },
    {
      "cell_type": "code",
      "execution_count": 26,
      "metadata": {
        "execution": {
          "iopub.execute_input": "2022-12-01T14:14:12.244878Z",
          "iopub.status.busy": "2022-12-01T14:14:12.244538Z",
          "iopub.status.idle": "2022-12-01T14:14:12.256519Z",
          "shell.execute_reply": "2022-12-01T14:14:12.255394Z",
          "shell.execute_reply.started": "2022-12-01T14:14:12.244843Z"
        },
        "id": "_FXwAeDHRkD4"
      },
      "outputs": [],
      "source": [
        "def model_plot(model_class, input_sample):\n",
        "    clf = model_class()\n",
        "    y = clf(input_sample)\n",
        "    clf_view = make_dot(y, params=dict(list(clf.named_parameters()) + [('x', input_sample)]))\n",
        "    return clf_view\n",
        "\n",
        "# 设置全局的随机种子\n",
        "def all_seed(seed = 6666):\n",
        "    \"\"\"\n",
        "    设置随机种子\n",
        "    \"\"\"\n",
        "    np.random.seed(seed)\n",
        "    random.seed(seed)\n",
        "    # CPU\n",
        "    torch.manual_seed(seed)\n",
        "    # GPU\n",
        "    if torch.cuda.is_available():\n",
        "        torch.cuda.manual_seed_all(seed)\n",
        "        torch.cuda.manual_seed(seed)\n",
        "    # python 全局\n",
        "    os.environ['PYTHONHASHSEED'] = str(seed)\n",
        "    # cudnn\n",
        "    torch.backends.cudnn.deterministic = True\n",
        "    torch.backends.cudnn.benchmark = False\n",
        "    torch.backends.cudnn.enabled = False\n",
        "    print(f'Set env random_seed = {seed}')\n",
        "\n",
        "\n",
        "def quick_observe(train_dir_root):\n",
        "    \"\"\"\n",
        "    快速观察训练集中的9张照片\n",
        "    \"\"\"\n",
        "    pics_path = [os.path.join(train_dir_root, i) for i in os.listdir(train_dir_root)]\n",
        "    labels = [i.split('_')[0] for i in os.listdir(train_dir_root)]\n",
        "    idxs = np.arange(len(labels))\n",
        "    sample_idx = np.random.choice(idxs, size=9, replace=False)\n",
        "    fig, axes = plt.subplots(3, 3, figsize=(20, 20))\n",
        "    for idx_, i in enumerate(sample_idx):\n",
        "        row = idx_ // 3\n",
        "        col = idx_ % 3\n",
        "        img=Image.open(pics_path[i])\n",
        "        axes[row, col].imshow(img)\n",
        "        c = labels[i]\n",
        "        axes[row, col].set_title(f'class_{c}')\n",
        "\n",
        "    plt.show()"
      ]
    },
    {
      "cell_type": "markdown",
      "metadata": {
        "execution": {
          "iopub.execute_input": "2022-11-29T09:21:47.915846Z",
          "iopub.status.busy": "2022-11-29T09:21:47.915438Z",
          "iopub.status.idle": "2022-11-29T09:21:47.921568Z",
          "shell.execute_reply": "2022-11-29T09:21:47.920299Z",
          "shell.execute_reply.started": "2022-11-29T09:21:47.915814Z"
        },
        "id": "zgxLuCmiRkD5"
      },
      "source": [
        "# **数据准备( 数据转换、数据扩增 )**"
      ]
    },
    {
      "cell_type": "code",
      "execution_count": 4,
      "metadata": {
        "execution": {
          "iopub.execute_input": "2022-12-01T14:14:12.259713Z",
          "iopub.status.busy": "2022-12-01T14:14:12.259349Z",
          "iopub.status.idle": "2022-12-01T14:14:14.524879Z",
          "shell.execute_reply": "2022-12-01T14:14:14.523506Z",
          "shell.execute_reply.started": "2022-12-01T14:14:12.259677Z"
        },
        "colab": {
          "base_uri": "https://localhost:8080/",
          "height": 162
        },
        "id": "4PCLTcaTRkD5",
        "outputId": "34f66cf3-da0c-4135-9b92-2dbaf93b935b"
      },
      "outputs": [
        {
          "output_type": "error",
          "ename": "NameError",
          "evalue": "name 'quick_observe' is not defined",
          "traceback": [
            "\u001b[0;31m---------------------------------------------------------------------------\u001b[0m",
            "\u001b[0;31mNameError\u001b[0m                                 Traceback (most recent call last)",
            "\u001b[0;32m<ipython-input-4-a855ebaffdf2>\u001b[0m in \u001b[0;36m<cell line: 0>\u001b[0;34m()\u001b[0m\n\u001b[1;32m      1\u001b[0m \u001b[0mtrain_dir_root\u001b[0m \u001b[0;34m=\u001b[0m \u001b[0;34m'food11/training'\u001b[0m\u001b[0;34m\u001b[0m\u001b[0;34m\u001b[0m\u001b[0m\n\u001b[0;32m----> 2\u001b[0;31m \u001b[0mquick_observe\u001b[0m\u001b[0;34m(\u001b[0m\u001b[0mtrain_dir_root\u001b[0m\u001b[0;34m)\u001b[0m\u001b[0;34m\u001b[0m\u001b[0;34m\u001b[0m\u001b[0m\n\u001b[0m",
            "\u001b[0;31mNameError\u001b[0m: name 'quick_observe' is not defined"
          ]
        }
      ],
      "source": [
        "train_dir_root = 'food11/training'\n",
        "quick_observe(train_dir_root)"
      ]
    },
    {
      "cell_type": "code",
      "source": [
        "!rm -rf ./food11\n",
        "!cp /content/drive/MyDrive/models/food11.zip ./\n",
        "!unzip ./food11.zip -d ./"
      ],
      "metadata": {
        "colab": {
          "base_uri": "https://localhost:8080/"
        },
        "id": "7rZVtEuDqWcZ",
        "outputId": "dba96c9f-d08f-47fa-a5be-c50b19547b0c"
      },
      "execution_count": 5,
      "outputs": [
        {
          "output_type": "stream",
          "name": "stdout",
          "text": [
            "cp: cannot stat '/content/drive/MyDrive/models/food11.zip': No such file or directory\n",
            "unzip:  cannot find or open ./food11.zip, ./food11.zip.zip or ./food11.zip.ZIP.\n"
          ]
        }
      ]
    },
    {
      "cell_type": "code",
      "source": [
        "!file ./food11.zip\n"
      ],
      "metadata": {
        "colab": {
          "base_uri": "https://localhost:8080/"
        },
        "id": "EXvrpsKXrV8U",
        "outputId": "106f7a2f-4bd3-4c7c-a5c1-572dc115efe6"
      },
      "execution_count": 6,
      "outputs": [
        {
          "output_type": "stream",
          "name": "stdout",
          "text": [
            "./food11.zip: cannot open `./food11.zip' (No such file or directory)\n"
          ]
        }
      ]
    },
    {
      "cell_type": "markdown",
      "metadata": {
        "id": "VIZH74cwRkD5"
      },
      "source": [
        "##  &#x2728;  **Transforms**\n",
        "<font color=darkred><b>***TODO***: 尝试一些图片处理及数据扩增的方法</font></b>  \n",
        "<font color=darkred><b>***TODO***: 尝试一些Ensemble方法</font></b>  \n",
        "- `Torchvision` 中有很多图片处理的方法，还有很多数据扩增 (data augmentation) 的方法， 可以参考[Pytorch官网](https://pytorch.org/vision/stable/index.html)进一步的了解学习不同的数据处理方法\n",
        "- [transforms官方使用示例](https://pytorch.org/vision/stable/auto_examples/plot_transforms.html#sphx-glr-auto-examples-plot-transforms-py)\n",
        "\n",
        "从上图中我们可以看出照片的大小都是不一致的，最小的图片处理也需要将图片切成一样大小的\n",
        "\n"
      ]
    },
    {
      "cell_type": "code",
      "execution_count": 29,
      "metadata": {
        "execution": {
          "iopub.execute_input": "2022-12-01T14:14:14.526793Z",
          "iopub.status.busy": "2022-12-01T14:14:14.526302Z",
          "iopub.status.idle": "2022-12-01T14:14:14.534453Z",
          "shell.execute_reply": "2022-12-01T14:14:14.533660Z",
          "shell.execute_reply.started": "2022-12-01T14:14:14.526745Z"
        },
        "id": "vEMoh0N_RkD6"
      },
      "outputs": [],
      "source": [
        "# 一般情况下，我们不会在验证集和测试集上做数据扩增\n",
        "# 我们只需要将图片裁剪成同样的大小并装换成Tensor就行\n",
        "test_tfm = transforms.Compose([\n",
        "    transforms.Resize((128, 128)),\n",
        "    transforms.ToTensor(),\n",
        "])\n",
        "\n",
        "# 当然，我们也可以再测试集中对数据进行扩增（对同样本的不同装换）\n",
        "#  - 用训练数据的装化方法（train_tfm）去对测试集数据进行转化，产出扩增样本\n",
        "#  - 对同个照片的不同样本分别进行预测\n",
        "#  - 最后可以用soft vote / hard vote 等集成方法输出最后的预测\n",
        "train_tfm = transforms.Compose([\n",
        "    # 图片裁剪 (height = width = 128)\n",
        "    transforms.Resize((128, 128)),\n",
        "    # TODO:在这部分还可以增加一些图片处理的操作\n",
        "    transforms.AutoAugment(transforms.AutoAugmentPolicy.IMAGENET),\n",
        "    # ToTensor() 放在所有处理的最后\n",
        "    transforms.ToTensor(),\n",
        "])"
      ]
    },
    {
      "cell_type": "markdown",
      "metadata": {
        "id": "aGxnmrHnRkD6"
      },
      "source": [
        "# **数据集**\n",
        "数据的标签在文件名中, 我们可以在加载的数据将文件名处理成标签"
      ]
    },
    {
      "cell_type": "code",
      "execution_count": 30,
      "metadata": {
        "execution": {
          "iopub.execute_input": "2022-12-01T14:14:14.536424Z",
          "iopub.status.busy": "2022-12-01T14:14:14.535910Z",
          "iopub.status.idle": "2022-12-01T14:14:14.547727Z",
          "shell.execute_reply": "2022-12-01T14:14:14.546369Z",
          "shell.execute_reply.started": "2022-12-01T14:14:14.536383Z"
        },
        "id": "8V-AKCQVRkD6"
      },
      "outputs": [],
      "source": [
        "class FoodDataset(Dataset):\n",
        "\n",
        "    def __init__(self,path,tfm=test_tfm,files = None):\n",
        "        super(FoodDataset).__init__()\n",
        "        self.path = path\n",
        "        self.files = sorted([os.path.join(path,x) for x in os.listdir(path) if x.endswith(\".jpg\")])\n",
        "        if files != None:\n",
        "            self.files = files\n",
        "        print(f\"One {path} sample\",self.files[0])\n",
        "        self.transform = tfm\n",
        "\n",
        "    def __len__(self):\n",
        "        return len(self.files)\n",
        "\n",
        "    def __getitem__(self,idx):\n",
        "        fname = self.files[idx]\n",
        "        im = Image.open(fname)\n",
        "        im = self.transform(im)\n",
        "        try:\n",
        "            label = int(fname.split(\"/\")[-1].split(\"_\")[0])\n",
        "        except:\n",
        "            label = -1 # 测试集没有label\n",
        "        return im,label"
      ]
    },
    {
      "cell_type": "markdown",
      "metadata": {
        "execution": {
          "iopub.execute_input": "2022-11-29T09:30:24.333818Z",
          "iopub.status.busy": "2022-11-29T09:30:24.333364Z",
          "iopub.status.idle": "2022-11-29T09:30:24.338908Z",
          "shell.execute_reply": "2022-11-29T09:30:24.337658Z",
          "shell.execute_reply.started": "2022-11-29T09:30:24.333781Z"
        },
        "id": "podUmNTNRkD6"
      },
      "source": [
        "#  &#x2728; **神经网络模型**\n",
        "<font color=darkred><b>***TODO***: 尝试一些现成的网络框架</font></b>  \n",
        "- 参考官网中的一些模型[torchvision.models](https://pytorch.org/vision/stable/models.html)\n",
        "    - AlexNet\n",
        "    - ConvNeXt\n",
        "    - DenseNet\n",
        "    - EfficientNet\n",
        "    - EfficientNetV2\n",
        "    - GoogLeNet\n",
        "    - Inception V3\n",
        "    - MaxVit\n",
        "    - MNASNet\n",
        "    - MobileNet V2\n",
        "    - MobileNet V3\n",
        "    - RegNet\n",
        "    - ResNet\n",
        "    - ResNeXt\n",
        "    - ShuffleNet V2\n",
        "    - SqueezeNet\n",
        "    - SwinTransformer\n",
        "    - VGG\n",
        "    - VisionTransformer\n",
        "    - Wide ResNet\n",
        "\n"
      ]
    },
    {
      "cell_type": "code",
      "execution_count": 31,
      "metadata": {
        "execution": {
          "iopub.execute_input": "2022-12-01T14:14:14.550439Z",
          "iopub.status.busy": "2022-12-01T14:14:14.549663Z",
          "iopub.status.idle": "2022-12-01T14:14:14.995140Z",
          "shell.execute_reply": "2022-12-01T14:14:14.994080Z",
          "shell.execute_reply.started": "2022-12-01T14:14:14.550393Z"
        },
        "colab": {
          "base_uri": "https://localhost:8080/"
        },
        "id": "HO0OU7MSRkD6",
        "outputId": "6ed99c72-02fe-411e-d5d8-ea4c7048d259"
      },
      "outputs": [
        {
          "output_type": "stream",
          "name": "stderr",
          "text": [
            "/usr/local/lib/python3.11/dist-packages/torchvision/models/_utils.py:208: UserWarning: The parameter 'pretrained' is deprecated since 0.13 and may be removed in the future, please use 'weights' instead.\n",
            "  warnings.warn(\n",
            "/usr/local/lib/python3.11/dist-packages/torchvision/models/_utils.py:223: UserWarning: Arguments other than a weight enum or `None` for 'weights' are deprecated since 0.13 and may be removed in the future. The current behavior is equivalent to passing `weights=None`.\n",
            "  warnings.warn(msg)\n"
          ]
        }
      ],
      "source": [
        "from torchvision.models import resnet50\n",
        "\n",
        "resNet = resnet50(pretrained=False)\n",
        "\n",
        "\n",
        "class Classifier(nn.Module):\n",
        "    def __init__(self):\n",
        "        super(Classifier, self).__init__()\n",
        "        # input 維度 [3, 128, 128]\n",
        "        self.cnn = nn.Sequential(\n",
        "            nn.Conv2d(3, 64, 3, 1, 1),  # [64, 128, 128]\n",
        "            nn.BatchNorm2d(64),\n",
        "            nn.ReLU(),\n",
        "            nn.MaxPool2d(2, 2, 0),      # [64, 64, 64]\n",
        "\n",
        "            nn.Conv2d(64, 128, 3, 1, 1), # [128, 64, 64]\n",
        "            nn.BatchNorm2d(128),\n",
        "            nn.ReLU(),\n",
        "            nn.MaxPool2d(2, 2, 0),      # [128, 32, 32]\n",
        "\n",
        "            nn.Conv2d(128, 256, 3, 1, 1), # [256, 32, 32]\n",
        "            nn.BatchNorm2d(256),\n",
        "            nn.ReLU(),\n",
        "            nn.MaxPool2d(2, 2, 0),      # [256, 16, 16]\n",
        "\n",
        "            nn.Conv2d(256, 512, 3, 1, 1), # [512, 16, 16]\n",
        "            nn.BatchNorm2d(512),\n",
        "            nn.ReLU(),\n",
        "            nn.MaxPool2d(2, 2, 0),       # [512, 8, 8]\n",
        "\n",
        "            nn.Conv2d(512, 512, 3, 1, 1), # [512, 8, 8]\n",
        "            nn.BatchNorm2d(512),\n",
        "            nn.ReLU(),\n",
        "            nn.MaxPool2d(2, 2, 0),       # [512, 4, 4]\n",
        "        )\n",
        "        self.fc = nn.Sequential(\n",
        "            nn.Linear(512*4*4, 1024),\n",
        "            nn.ReLU(),\n",
        "            nn.Linear(1024, 512),\n",
        "            nn.ReLU(),\n",
        "            nn.Linear(512, 11)\n",
        "        )\n",
        "\n",
        "    def forward(self, x):\n",
        "        out = self.cnn(x)\n",
        "        out = out.view(out.size()[0], -1)\n",
        "        return self.fc(out)\n",
        "\n"
      ]
    },
    {
      "cell_type": "code",
      "execution_count": 32,
      "metadata": {
        "execution": {
          "iopub.execute_input": "2022-12-01T14:14:14.997023Z",
          "iopub.status.busy": "2022-12-01T14:14:14.996565Z",
          "iopub.status.idle": "2022-12-01T14:14:16.196463Z",
          "shell.execute_reply": "2022-12-01T14:14:16.195320Z",
          "shell.execute_reply.started": "2022-12-01T14:14:14.996985Z"
        },
        "colab": {
          "base_uri": "https://localhost:8080/",
          "height": 1000
        },
        "id": "iYZpQvr_RkD7",
        "outputId": "83f8d3f0-2c8f-4a0b-ca00-c1da68570782"
      },
      "outputs": [
        {
          "output_type": "execute_result",
          "data": {
            "image/svg+xml": "<?xml version=\"1.0\" encoding=\"UTF-8\" standalone=\"no\"?>\n<!DOCTYPE svg PUBLIC \"-//W3C//DTD SVG 1.1//EN\"\n \"http://www.w3.org/Graphics/SVG/1.1/DTD/svg11.dtd\">\n<!-- Generated by graphviz version 2.43.0 (0)\n -->\n<!-- Title: %3 Pages: 1 -->\n<svg width=\"1804pt\" height=\"1410pt\"\n viewBox=\"0.00 0.00 1804.00 1409.63\" xmlns=\"http://www.w3.org/2000/svg\" xmlns:xlink=\"http://www.w3.org/1999/xlink\">\n<g id=\"graph0\" class=\"graph\" transform=\"scale(0.8 0.8) rotate(0) translate(4 1751)\">\n<title>%3</title>\n<polygon fill=\"white\" stroke=\"transparent\" points=\"-4,4 -4,-1751 2242,-1751 2242,4 -4,4\"/>\n<!-- 133651577179888 -->\n<g id=\"node1\" class=\"node\">\n<title>133651577179888</title>\n<polygon fill=\"#caff70\" stroke=\"black\" points=\"2054,-31 1989,-31 1989,0 2054,0 2054,-31\"/>\n<text text-anchor=\"middle\" x=\"2021.5\" y=\"-7\" font-family=\"monospace\" font-size=\"10.00\"> (1, 11)</text>\n</g>\n<!-- 133651583465648 -->\n<g id=\"node2\" class=\"node\">\n<title>133651583465648</title>\n<polygon fill=\"lightgrey\" stroke=\"black\" points=\"2072,-86 1971,-86 1971,-67 2072,-67 2072,-86\"/>\n<text text-anchor=\"middle\" x=\"2021.5\" y=\"-74\" font-family=\"monospace\" font-size=\"10.00\">AddmmBackward0</text>\n</g>\n<!-- 133651583465648&#45;&gt;133651577179888 -->\n<g id=\"edge83\" class=\"edge\">\n<title>133651583465648&#45;&gt;133651577179888</title>\n<path fill=\"none\" stroke=\"black\" d=\"M2021.5,-66.79C2021.5,-60.07 2021.5,-50.4 2021.5,-41.34\"/>\n<polygon fill=\"black\" stroke=\"black\" points=\"2025,-41.19 2021.5,-31.19 2018,-41.19 2025,-41.19\"/>\n</g>\n<!-- 133651583465744 -->\n<g id=\"node3\" class=\"node\">\n<title>133651583465744</title>\n<polygon fill=\"lightgrey\" stroke=\"black\" points=\"1956,-141 1855,-141 1855,-122 1956,-122 1956,-141\"/>\n<text text-anchor=\"middle\" x=\"1905.5\" y=\"-129\" font-family=\"monospace\" font-size=\"10.00\">AccumulateGrad</text>\n</g>\n<!-- 133651583465744&#45;&gt;133651583465648 -->\n<g id=\"edge1\" class=\"edge\">\n<title>133651583465744&#45;&gt;133651583465648</title>\n<path fill=\"none\" stroke=\"black\" d=\"M1924.14,-121.98C1942.8,-113.46 1971.75,-100.23 1993.24,-90.41\"/>\n<polygon fill=\"black\" stroke=\"black\" points=\"1994.88,-93.51 2002.52,-86.17 1991.97,-87.14 1994.88,-93.51\"/>\n</g>\n<!-- 133651577178352 -->\n<g id=\"node4\" class=\"node\">\n<title>133651577178352</title>\n<polygon fill=\"lightblue\" stroke=\"black\" points=\"1941,-207 1870,-207 1870,-177 1941,-177 1941,-207\"/>\n<text text-anchor=\"middle\" x=\"1905.5\" y=\"-195\" font-family=\"monospace\" font-size=\"10.00\">fc.4.bias</text>\n<text text-anchor=\"middle\" x=\"1905.5\" y=\"-184\" font-family=\"monospace\" font-size=\"10.00\"> (11)</text>\n</g>\n<!-- 133651577178352&#45;&gt;133651583465744 -->\n<g id=\"edge2\" class=\"edge\">\n<title>133651577178352&#45;&gt;133651583465744</title>\n<path fill=\"none\" stroke=\"black\" d=\"M1905.5,-176.84C1905.5,-169.21 1905.5,-159.7 1905.5,-151.45\"/>\n<polygon fill=\"black\" stroke=\"black\" points=\"1909,-151.27 1905.5,-141.27 1902,-151.27 1909,-151.27\"/>\n</g>\n<!-- 133651583463152 -->\n<g id=\"node5\" class=\"node\">\n<title>133651583463152</title>\n<polygon fill=\"lightgrey\" stroke=\"black\" points=\"2069,-141 1974,-141 1974,-122 2069,-122 2069,-141\"/>\n<text text-anchor=\"middle\" x=\"2021.5\" y=\"-129\" font-family=\"monospace\" font-size=\"10.00\">ReluBackward0</text>\n</g>\n<!-- 133651583463152&#45;&gt;133651583465648 -->\n<g id=\"edge3\" class=\"edge\">\n<title>133651583463152&#45;&gt;133651583465648</title>\n<path fill=\"none\" stroke=\"black\" d=\"M2021.5,-121.75C2021.5,-114.8 2021.5,-104.85 2021.5,-96.13\"/>\n<polygon fill=\"black\" stroke=\"black\" points=\"2025,-96.09 2021.5,-86.09 2018,-96.09 2025,-96.09\"/>\n</g>\n<!-- 133651583467472 -->\n<g id=\"node6\" class=\"node\">\n<title>133651583467472</title>\n<polygon fill=\"lightgrey\" stroke=\"black\" points=\"2066,-201.5 1965,-201.5 1965,-182.5 2066,-182.5 2066,-201.5\"/>\n<text text-anchor=\"middle\" x=\"2015.5\" y=\"-189.5\" font-family=\"monospace\" font-size=\"10.00\">AddmmBackward0</text>\n</g>\n<!-- 133651583467472&#45;&gt;133651583463152 -->\n<g id=\"edge4\" class=\"edge\">\n<title>133651583467472&#45;&gt;133651583463152</title>\n<path fill=\"none\" stroke=\"black\" d=\"M2016.39,-182.37C2017.22,-174.25 2018.49,-161.81 2019.56,-151.39\"/>\n<polygon fill=\"black\" stroke=\"black\" points=\"2023.07,-151.47 2020.61,-141.17 2016.11,-150.76 2023.07,-151.47\"/>\n</g>\n<!-- 133651583462096 -->\n<g id=\"node7\" class=\"node\">\n<title>133651583462096</title>\n<polygon fill=\"lightgrey\" stroke=\"black\" points=\"1929,-267.5 1828,-267.5 1828,-248.5 1929,-248.5 1929,-267.5\"/>\n<text text-anchor=\"middle\" x=\"1878.5\" y=\"-255.5\" font-family=\"monospace\" font-size=\"10.00\">AccumulateGrad</text>\n</g>\n<!-- 133651583462096&#45;&gt;133651583467472 -->\n<g id=\"edge5\" class=\"edge\">\n<title>133651583462096&#45;&gt;133651583467472</title>\n<path fill=\"none\" stroke=\"black\" d=\"M1896.98,-248.37C1920.26,-237.49 1960.51,-218.69 1987.56,-206.05\"/>\n<polygon fill=\"black\" stroke=\"black\" points=\"1989.3,-209.1 1996.88,-201.7 1986.34,-202.76 1989.3,-209.1\"/>\n</g>\n<!-- 133651577178160 -->\n<g id=\"node8\" class=\"node\">\n<title>133651577178160</title>\n<polygon fill=\"lightblue\" stroke=\"black\" points=\"1914,-339 1843,-339 1843,-309 1914,-309 1914,-339\"/>\n<text text-anchor=\"middle\" x=\"1878.5\" y=\"-327\" font-family=\"monospace\" font-size=\"10.00\">fc.2.bias</text>\n<text text-anchor=\"middle\" x=\"1878.5\" y=\"-316\" font-family=\"monospace\" font-size=\"10.00\"> (512)</text>\n</g>\n<!-- 133651577178160&#45;&gt;133651583462096 -->\n<g id=\"edge6\" class=\"edge\">\n<title>133651577178160&#45;&gt;133651583462096</title>\n<path fill=\"none\" stroke=\"black\" d=\"M1878.5,-308.8C1878.5,-299.7 1878.5,-287.79 1878.5,-277.9\"/>\n<polygon fill=\"black\" stroke=\"black\" points=\"1882,-277.84 1878.5,-267.84 1875,-277.84 1882,-277.84\"/>\n</g>\n<!-- 133651583464448 -->\n<g id=\"node9\" class=\"node\">\n<title>133651583464448</title>\n<polygon fill=\"lightgrey\" stroke=\"black\" points=\"2042,-267.5 1947,-267.5 1947,-248.5 2042,-248.5 2042,-267.5\"/>\n<text text-anchor=\"middle\" x=\"1994.5\" y=\"-255.5\" font-family=\"monospace\" font-size=\"10.00\">ReluBackward0</text>\n</g>\n<!-- 133651583464448&#45;&gt;133651583467472 -->\n<g id=\"edge7\" class=\"edge\">\n<title>133651583464448&#45;&gt;133651583467472</title>\n<path fill=\"none\" stroke=\"black\" d=\"M1997.33,-248.37C2000.41,-238.97 2005.44,-223.67 2009.42,-211.53\"/>\n<polygon fill=\"black\" stroke=\"black\" points=\"2012.79,-212.5 2012.58,-201.91 2006.13,-210.32 2012.79,-212.5\"/>\n</g>\n<!-- 133651583464496 -->\n<g id=\"node10\" class=\"node\">\n<title>133651583464496</title>\n<polygon fill=\"lightgrey\" stroke=\"black\" points=\"2039,-333.5 1938,-333.5 1938,-314.5 2039,-314.5 2039,-333.5\"/>\n<text text-anchor=\"middle\" x=\"1988.5\" y=\"-321.5\" font-family=\"monospace\" font-size=\"10.00\">AddmmBackward0</text>\n</g>\n<!-- 133651583464496&#45;&gt;133651583464448 -->\n<g id=\"edge8\" class=\"edge\">\n<title>133651583464496&#45;&gt;133651583464448</title>\n<path fill=\"none\" stroke=\"black\" d=\"M1989.31,-314.37C1990.18,-305.07 1991.6,-289.98 1992.73,-277.9\"/>\n<polygon fill=\"black\" stroke=\"black\" points=\"1996.22,-278.19 1993.67,-267.91 1989.25,-277.53 1996.22,-278.19\"/>\n</g>\n<!-- 133651583467328 -->\n<g id=\"node11\" class=\"node\">\n<title>133651583467328</title>\n<polygon fill=\"lightgrey\" stroke=\"black\" points=\"1885,-399.5 1784,-399.5 1784,-380.5 1885,-380.5 1885,-399.5\"/>\n<text text-anchor=\"middle\" x=\"1834.5\" y=\"-387.5\" font-family=\"monospace\" font-size=\"10.00\">AccumulateGrad</text>\n</g>\n<!-- 133651583467328&#45;&gt;133651583464496 -->\n<g id=\"edge9\" class=\"edge\">\n<title>133651583467328&#45;&gt;133651583464496</title>\n<path fill=\"none\" stroke=\"black\" d=\"M1855.27,-380.37C1881.79,-369.35 1927.88,-350.19 1958.29,-337.55\"/>\n<polygon fill=\"black\" stroke=\"black\" points=\"1959.68,-340.77 1967.57,-333.7 1956.99,-334.3 1959.68,-340.77\"/>\n</g>\n<!-- 133651577177968 -->\n<g id=\"node12\" class=\"node\">\n<title>133651577177968</title>\n<polygon fill=\"lightblue\" stroke=\"black\" points=\"1854,-471 1783,-471 1783,-441 1854,-441 1854,-471\"/>\n<text text-anchor=\"middle\" x=\"1818.5\" y=\"-459\" font-family=\"monospace\" font-size=\"10.00\">fc.0.bias</text>\n<text text-anchor=\"middle\" x=\"1818.5\" y=\"-448\" font-family=\"monospace\" font-size=\"10.00\"> (1024)</text>\n</g>\n<!-- 133651577177968&#45;&gt;133651583467328 -->\n<g id=\"edge10\" class=\"edge\">\n<title>133651577177968&#45;&gt;133651583467328</title>\n<path fill=\"none\" stroke=\"black\" d=\"M1822.05,-440.8C1824.35,-431.6 1827.37,-419.53 1829.86,-409.58\"/>\n<polygon fill=\"black\" stroke=\"black\" points=\"1833.26,-410.39 1832.29,-399.84 1826.47,-408.7 1833.26,-410.39\"/>\n</g>\n<!-- 133651583462864 -->\n<g id=\"node13\" class=\"node\">\n<title>133651583462864</title>\n<polygon fill=\"lightgrey\" stroke=\"black\" points=\"2015,-399.5 1920,-399.5 1920,-380.5 2015,-380.5 2015,-399.5\"/>\n<text text-anchor=\"middle\" x=\"1967.5\" y=\"-387.5\" font-family=\"monospace\" font-size=\"10.00\">ViewBackward0</text>\n</g>\n<!-- 133651583462864&#45;&gt;133651583464496 -->\n<g id=\"edge11\" class=\"edge\">\n<title>133651583462864&#45;&gt;133651583464496</title>\n<path fill=\"none\" stroke=\"black\" d=\"M1970.33,-380.37C1973.41,-370.97 1978.44,-355.67 1982.42,-343.53\"/>\n<polygon fill=\"black\" stroke=\"black\" points=\"1985.79,-344.5 1985.58,-333.91 1979.13,-342.32 1985.79,-344.5\"/>\n</g>\n<!-- 133651583465360 -->\n<g id=\"node14\" class=\"node\">\n<title>133651583465360</title>\n<polygon fill=\"lightgrey\" stroke=\"black\" points=\"2063,-465.5 1872,-465.5 1872,-446.5 2063,-446.5 2063,-465.5\"/>\n<text text-anchor=\"middle\" x=\"1967.5\" y=\"-453.5\" font-family=\"monospace\" font-size=\"10.00\">MaxPool2DWithIndicesBackward0</text>\n</g>\n<!-- 133651583465360&#45;&gt;133651583462864 -->\n<g id=\"edge12\" class=\"edge\">\n<title>133651583465360&#45;&gt;133651583462864</title>\n<path fill=\"none\" stroke=\"black\" d=\"M1967.5,-446.37C1967.5,-437.16 1967.5,-422.29 1967.5,-410.27\"/>\n<polygon fill=\"black\" stroke=\"black\" points=\"1971,-409.91 1967.5,-399.91 1964,-409.91 1971,-409.91\"/>\n</g>\n<!-- 133651583462528 -->\n<g id=\"node15\" class=\"node\">\n<title>133651583462528</title>\n<polygon fill=\"lightgrey\" stroke=\"black\" points=\"2015,-531.5 1920,-531.5 1920,-512.5 2015,-512.5 2015,-531.5\"/>\n<text text-anchor=\"middle\" x=\"1967.5\" y=\"-519.5\" font-family=\"monospace\" font-size=\"10.00\">ReluBackward0</text>\n</g>\n<!-- 133651583462528&#45;&gt;133651583465360 -->\n<g id=\"edge13\" class=\"edge\">\n<title>133651583462528&#45;&gt;133651583465360</title>\n<path fill=\"none\" stroke=\"black\" d=\"M1967.5,-512.37C1967.5,-503.16 1967.5,-488.29 1967.5,-476.27\"/>\n<polygon fill=\"black\" stroke=\"black\" points=\"1971,-475.91 1967.5,-465.91 1964,-475.91 1971,-475.91\"/>\n</g>\n<!-- 133651583463488 -->\n<g id=\"node16\" class=\"node\">\n<title>133651583463488</title>\n<polygon fill=\"lightgrey\" stroke=\"black\" points=\"2048,-592 1887,-592 1887,-573 2048,-573 2048,-592\"/>\n<text text-anchor=\"middle\" x=\"1967.5\" y=\"-580\" font-family=\"monospace\" font-size=\"10.00\">NativeBatchNormBackward0</text>\n</g>\n<!-- 133651583463488&#45;&gt;133651583462528 -->\n<g id=\"edge14\" class=\"edge\">\n<title>133651583463488&#45;&gt;133651583462528</title>\n<path fill=\"none\" stroke=\"black\" d=\"M1967.5,-572.87C1967.5,-564.75 1967.5,-552.31 1967.5,-541.89\"/>\n<polygon fill=\"black\" stroke=\"black\" points=\"1971,-541.67 1967.5,-531.67 1964,-541.67 1971,-541.67\"/>\n</g>\n<!-- 133651583459840 -->\n<g id=\"node17\" class=\"node\">\n<title>133651583459840</title>\n<polygon fill=\"lightgrey\" stroke=\"black\" points=\"1853,-647 1716,-647 1716,-628 1853,-628 1853,-647\"/>\n<text text-anchor=\"middle\" x=\"1784.5\" y=\"-635\" font-family=\"monospace\" font-size=\"10.00\">ConvolutionBackward0</text>\n</g>\n<!-- 133651583459840&#45;&gt;133651583463488 -->\n<g id=\"edge15\" class=\"edge\">\n<title>133651583459840&#45;&gt;133651583463488</title>\n<path fill=\"none\" stroke=\"black\" d=\"M1813.9,-627.98C1844.89,-619.01 1893.88,-604.82 1928.17,-594.89\"/>\n<polygon fill=\"black\" stroke=\"black\" points=\"1929.24,-598.23 1937.87,-592.08 1927.29,-591.5 1929.24,-598.23\"/>\n</g>\n<!-- 133651583461568 -->\n<g id=\"node18\" class=\"node\">\n<title>133651583461568</title>\n<polygon fill=\"lightgrey\" stroke=\"black\" points=\"1670,-707.5 1479,-707.5 1479,-688.5 1670,-688.5 1670,-707.5\"/>\n<text text-anchor=\"middle\" x=\"1574.5\" y=\"-695.5\" font-family=\"monospace\" font-size=\"10.00\">MaxPool2DWithIndicesBackward0</text>\n</g>\n<!-- 133651583461568&#45;&gt;133651583459840 -->\n<g id=\"edge16\" class=\"edge\">\n<title>133651583461568&#45;&gt;133651583459840</title>\n<path fill=\"none\" stroke=\"black\" d=\"M1605.04,-688.49C1641.74,-678.27 1703.45,-661.08 1744.08,-649.76\"/>\n<polygon fill=\"black\" stroke=\"black\" points=\"1745.23,-653.07 1753.93,-647.02 1743.35,-646.33 1745.23,-653.07\"/>\n</g>\n<!-- 133651583460944 -->\n<g id=\"node19\" class=\"node\">\n<title>133651583460944</title>\n<polygon fill=\"lightgrey\" stroke=\"black\" points=\"1622,-773.5 1527,-773.5 1527,-754.5 1622,-754.5 1622,-773.5\"/>\n<text text-anchor=\"middle\" x=\"1574.5\" y=\"-761.5\" font-family=\"monospace\" font-size=\"10.00\">ReluBackward0</text>\n</g>\n<!-- 133651583460944&#45;&gt;133651583461568 -->\n<g id=\"edge17\" class=\"edge\">\n<title>133651583460944&#45;&gt;133651583461568</title>\n<path fill=\"none\" stroke=\"black\" d=\"M1574.5,-754.37C1574.5,-745.16 1574.5,-730.29 1574.5,-718.27\"/>\n<polygon fill=\"black\" stroke=\"black\" points=\"1578,-717.91 1574.5,-707.91 1571,-717.91 1578,-717.91\"/>\n</g>\n<!-- 133651583461904 -->\n<g id=\"node20\" class=\"node\">\n<title>133651583461904</title>\n<polygon fill=\"lightgrey\" stroke=\"black\" points=\"1655,-834 1494,-834 1494,-815 1655,-815 1655,-834\"/>\n<text text-anchor=\"middle\" x=\"1574.5\" y=\"-822\" font-family=\"monospace\" font-size=\"10.00\">NativeBatchNormBackward0</text>\n</g>\n<!-- 133651583461904&#45;&gt;133651583460944 -->\n<g id=\"edge18\" class=\"edge\">\n<title>133651583461904&#45;&gt;133651583460944</title>\n<path fill=\"none\" stroke=\"black\" d=\"M1574.5,-814.87C1574.5,-806.75 1574.5,-794.31 1574.5,-783.89\"/>\n<polygon fill=\"black\" stroke=\"black\" points=\"1578,-783.67 1574.5,-773.67 1571,-783.67 1578,-783.67\"/>\n</g>\n<!-- 133651583463872 -->\n<g id=\"node21\" class=\"node\">\n<title>133651583463872</title>\n<polygon fill=\"lightgrey\" stroke=\"black\" points=\"1460,-889 1323,-889 1323,-870 1460,-870 1460,-889\"/>\n<text text-anchor=\"middle\" x=\"1391.5\" y=\"-877\" font-family=\"monospace\" font-size=\"10.00\">ConvolutionBackward0</text>\n</g>\n<!-- 133651583463872&#45;&gt;133651583461904 -->\n<g id=\"edge19\" class=\"edge\">\n<title>133651583463872&#45;&gt;133651583461904</title>\n<path fill=\"none\" stroke=\"black\" d=\"M1420.9,-869.98C1451.89,-861.01 1500.88,-846.82 1535.17,-836.89\"/>\n<polygon fill=\"black\" stroke=\"black\" points=\"1536.24,-840.23 1544.87,-834.08 1534.29,-833.5 1536.24,-840.23\"/>\n</g>\n<!-- 133651583459216 -->\n<g id=\"node22\" class=\"node\">\n<title>133651583459216</title>\n<polygon fill=\"lightgrey\" stroke=\"black\" points=\"1277,-949.5 1086,-949.5 1086,-930.5 1277,-930.5 1277,-949.5\"/>\n<text text-anchor=\"middle\" x=\"1181.5\" y=\"-937.5\" font-family=\"monospace\" font-size=\"10.00\">MaxPool2DWithIndicesBackward0</text>\n</g>\n<!-- 133651583459216&#45;&gt;133651583463872 -->\n<g id=\"edge20\" class=\"edge\">\n<title>133651583459216&#45;&gt;133651583463872</title>\n<path fill=\"none\" stroke=\"black\" d=\"M1212.04,-930.49C1248.74,-920.27 1310.45,-903.08 1351.08,-891.76\"/>\n<polygon fill=\"black\" stroke=\"black\" points=\"1352.23,-895.07 1360.93,-889.02 1350.35,-888.33 1352.23,-895.07\"/>\n</g>\n<!-- 133651583466176 -->\n<g id=\"node23\" class=\"node\">\n<title>133651583466176</title>\n<polygon fill=\"lightgrey\" stroke=\"black\" points=\"1229,-1015.5 1134,-1015.5 1134,-996.5 1229,-996.5 1229,-1015.5\"/>\n<text text-anchor=\"middle\" x=\"1181.5\" y=\"-1003.5\" font-family=\"monospace\" font-size=\"10.00\">ReluBackward0</text>\n</g>\n<!-- 133651583466176&#45;&gt;133651583459216 -->\n<g id=\"edge21\" class=\"edge\">\n<title>133651583466176&#45;&gt;133651583459216</title>\n<path fill=\"none\" stroke=\"black\" d=\"M1181.5,-996.37C1181.5,-987.16 1181.5,-972.29 1181.5,-960.27\"/>\n<polygon fill=\"black\" stroke=\"black\" points=\"1185,-959.91 1181.5,-949.91 1178,-959.91 1185,-959.91\"/>\n</g>\n<!-- 133651583461472 -->\n<g id=\"node24\" class=\"node\">\n<title>133651583461472</title>\n<polygon fill=\"lightgrey\" stroke=\"black\" points=\"1262,-1076 1101,-1076 1101,-1057 1262,-1057 1262,-1076\"/>\n<text text-anchor=\"middle\" x=\"1181.5\" y=\"-1064\" font-family=\"monospace\" font-size=\"10.00\">NativeBatchNormBackward0</text>\n</g>\n<!-- 133651583461472&#45;&gt;133651583466176 -->\n<g id=\"edge22\" class=\"edge\">\n<title>133651583461472&#45;&gt;133651583466176</title>\n<path fill=\"none\" stroke=\"black\" d=\"M1181.5,-1056.87C1181.5,-1048.75 1181.5,-1036.31 1181.5,-1025.89\"/>\n<polygon fill=\"black\" stroke=\"black\" points=\"1185,-1025.67 1181.5,-1015.67 1178,-1025.67 1185,-1025.67\"/>\n</g>\n<!-- 133651583464832 -->\n<g id=\"node25\" class=\"node\">\n<title>133651583464832</title>\n<polygon fill=\"lightgrey\" stroke=\"black\" points=\"1070,-1131 933,-1131 933,-1112 1070,-1112 1070,-1131\"/>\n<text text-anchor=\"middle\" x=\"1001.5\" y=\"-1119\" font-family=\"monospace\" font-size=\"10.00\">ConvolutionBackward0</text>\n</g>\n<!-- 133651583464832&#45;&gt;133651583461472 -->\n<g id=\"edge23\" class=\"edge\">\n<title>133651583464832&#45;&gt;133651583461472</title>\n<path fill=\"none\" stroke=\"black\" d=\"M1030.42,-1111.98C1060.77,-1103.05 1108.67,-1088.94 1142.38,-1079.02\"/>\n<polygon fill=\"black\" stroke=\"black\" points=\"1143.75,-1082.26 1152.35,-1076.08 1141.77,-1075.55 1143.75,-1082.26\"/>\n</g>\n<!-- 133651583464112 -->\n<g id=\"node26\" class=\"node\">\n<title>133651583464112</title>\n<polygon fill=\"lightgrey\" stroke=\"black\" points=\"890,-1191.5 699,-1191.5 699,-1172.5 890,-1172.5 890,-1191.5\"/>\n<text text-anchor=\"middle\" x=\"794.5\" y=\"-1179.5\" font-family=\"monospace\" font-size=\"10.00\">MaxPool2DWithIndicesBackward0</text>\n</g>\n<!-- 133651583464112&#45;&gt;133651583464832 -->\n<g id=\"edge24\" class=\"edge\">\n<title>133651583464112&#45;&gt;133651583464832</title>\n<path fill=\"none\" stroke=\"black\" d=\"M824.6,-1172.49C860.78,-1162.27 921.61,-1145.08 961.66,-1133.76\"/>\n<polygon fill=\"black\" stroke=\"black\" points=\"962.69,-1137.1 971.36,-1131.02 960.79,-1130.37 962.69,-1137.1\"/>\n</g>\n<!-- 133651583462672 -->\n<g id=\"node27\" class=\"node\">\n<title>133651583462672</title>\n<polygon fill=\"lightgrey\" stroke=\"black\" points=\"842,-1257.5 747,-1257.5 747,-1238.5 842,-1238.5 842,-1257.5\"/>\n<text text-anchor=\"middle\" x=\"794.5\" y=\"-1245.5\" font-family=\"monospace\" font-size=\"10.00\">ReluBackward0</text>\n</g>\n<!-- 133651583462672&#45;&gt;133651583464112 -->\n<g id=\"edge25\" class=\"edge\">\n<title>133651583462672&#45;&gt;133651583464112</title>\n<path fill=\"none\" stroke=\"black\" d=\"M794.5,-1238.37C794.5,-1229.16 794.5,-1214.29 794.5,-1202.27\"/>\n<polygon fill=\"black\" stroke=\"black\" points=\"798,-1201.91 794.5,-1191.91 791,-1201.91 798,-1201.91\"/>\n</g>\n<!-- 133651583462768 -->\n<g id=\"node28\" class=\"node\">\n<title>133651583462768</title>\n<polygon fill=\"lightgrey\" stroke=\"black\" points=\"875,-1318 714,-1318 714,-1299 875,-1299 875,-1318\"/>\n<text text-anchor=\"middle\" x=\"794.5\" y=\"-1306\" font-family=\"monospace\" font-size=\"10.00\">NativeBatchNormBackward0</text>\n</g>\n<!-- 133651583462768&#45;&gt;133651583462672 -->\n<g id=\"edge26\" class=\"edge\">\n<title>133651583462768&#45;&gt;133651583462672</title>\n<path fill=\"none\" stroke=\"black\" d=\"M794.5,-1298.87C794.5,-1290.75 794.5,-1278.31 794.5,-1267.89\"/>\n<polygon fill=\"black\" stroke=\"black\" points=\"798,-1267.67 794.5,-1257.67 791,-1267.67 798,-1267.67\"/>\n</g>\n<!-- 133651583462912 -->\n<g id=\"node29\" class=\"node\">\n<title>133651583462912</title>\n<polygon fill=\"lightgrey\" stroke=\"black\" points=\"683,-1373 546,-1373 546,-1354 683,-1354 683,-1373\"/>\n<text text-anchor=\"middle\" x=\"614.5\" y=\"-1361\" font-family=\"monospace\" font-size=\"10.00\">ConvolutionBackward0</text>\n</g>\n<!-- 133651583462912&#45;&gt;133651583462768 -->\n<g id=\"edge27\" class=\"edge\">\n<title>133651583462912&#45;&gt;133651583462768</title>\n<path fill=\"none\" stroke=\"black\" d=\"M643.42,-1353.98C673.77,-1345.05 721.67,-1330.94 755.38,-1321.02\"/>\n<polygon fill=\"black\" stroke=\"black\" points=\"756.75,-1324.26 765.35,-1318.08 754.77,-1317.55 756.75,-1324.26\"/>\n</g>\n<!-- 133651583463104 -->\n<g id=\"node30\" class=\"node\">\n<title>133651583463104</title>\n<polygon fill=\"lightgrey\" stroke=\"black\" points=\"503,-1433.5 312,-1433.5 312,-1414.5 503,-1414.5 503,-1433.5\"/>\n<text text-anchor=\"middle\" x=\"407.5\" y=\"-1421.5\" font-family=\"monospace\" font-size=\"10.00\">MaxPool2DWithIndicesBackward0</text>\n</g>\n<!-- 133651583463104&#45;&gt;133651583462912 -->\n<g id=\"edge28\" class=\"edge\">\n<title>133651583463104&#45;&gt;133651583462912</title>\n<path fill=\"none\" stroke=\"black\" d=\"M437.6,-1414.49C473.78,-1404.27 534.61,-1387.08 574.66,-1375.76\"/>\n<polygon fill=\"black\" stroke=\"black\" points=\"575.69,-1379.1 584.36,-1373.02 573.79,-1372.37 575.69,-1379.1\"/>\n</g>\n<!-- 133651583466320 -->\n<g id=\"node31\" class=\"node\">\n<title>133651583466320</title>\n<polygon fill=\"lightgrey\" stroke=\"black\" points=\"455,-1499.5 360,-1499.5 360,-1480.5 455,-1480.5 455,-1499.5\"/>\n<text text-anchor=\"middle\" x=\"407.5\" y=\"-1487.5\" font-family=\"monospace\" font-size=\"10.00\">ReluBackward0</text>\n</g>\n<!-- 133651583466320&#45;&gt;133651583463104 -->\n<g id=\"edge29\" class=\"edge\">\n<title>133651583466320&#45;&gt;133651583463104</title>\n<path fill=\"none\" stroke=\"black\" d=\"M407.5,-1480.37C407.5,-1471.16 407.5,-1456.29 407.5,-1444.27\"/>\n<polygon fill=\"black\" stroke=\"black\" points=\"411,-1443.91 407.5,-1433.91 404,-1443.91 411,-1443.91\"/>\n</g>\n<!-- 133651583466608 -->\n<g id=\"node32\" class=\"node\">\n<title>133651583466608</title>\n<polygon fill=\"lightgrey\" stroke=\"black\" points=\"488,-1560 327,-1560 327,-1541 488,-1541 488,-1560\"/>\n<text text-anchor=\"middle\" x=\"407.5\" y=\"-1548\" font-family=\"monospace\" font-size=\"10.00\">NativeBatchNormBackward0</text>\n</g>\n<!-- 133651583466608&#45;&gt;133651583466320 -->\n<g id=\"edge30\" class=\"edge\">\n<title>133651583466608&#45;&gt;133651583466320</title>\n<path fill=\"none\" stroke=\"black\" d=\"M407.5,-1540.87C407.5,-1532.75 407.5,-1520.31 407.5,-1509.89\"/>\n<polygon fill=\"black\" stroke=\"black\" points=\"411,-1509.67 407.5,-1499.67 404,-1509.67 411,-1509.67\"/>\n</g>\n<!-- 133651583466752 -->\n<g id=\"node33\" class=\"node\">\n<title>133651583466752</title>\n<polygon fill=\"lightgrey\" stroke=\"black\" points=\"296,-1615 159,-1615 159,-1596 296,-1596 296,-1615\"/>\n<text text-anchor=\"middle\" x=\"227.5\" y=\"-1603\" font-family=\"monospace\" font-size=\"10.00\">ConvolutionBackward0</text>\n</g>\n<!-- 133651583466752&#45;&gt;133651583466608 -->\n<g id=\"edge31\" class=\"edge\">\n<title>133651583466752&#45;&gt;133651583466608</title>\n<path fill=\"none\" stroke=\"black\" d=\"M256.42,-1595.98C286.77,-1587.05 334.67,-1572.94 368.38,-1563.02\"/>\n<polygon fill=\"black\" stroke=\"black\" points=\"369.75,-1566.26 378.35,-1560.08 367.77,-1559.55 369.75,-1566.26\"/>\n</g>\n<!-- 133651583465024 -->\n<g id=\"node34\" class=\"node\">\n<title>133651583465024</title>\n<polygon fill=\"lightgrey\" stroke=\"black\" points=\"114,-1675.5 13,-1675.5 13,-1656.5 114,-1656.5 114,-1675.5\"/>\n<text text-anchor=\"middle\" x=\"63.5\" y=\"-1663.5\" font-family=\"monospace\" font-size=\"10.00\">AccumulateGrad</text>\n</g>\n<!-- 133651583465024&#45;&gt;133651583466752 -->\n<g id=\"edge32\" class=\"edge\">\n<title>133651583465024&#45;&gt;133651583466752</title>\n<path fill=\"none\" stroke=\"black\" d=\"M87.35,-1656.49C115.4,-1646.49 162.17,-1629.8 193.9,-1618.49\"/>\n<polygon fill=\"black\" stroke=\"black\" points=\"195.38,-1621.67 203.62,-1615.02 193.03,-1615.08 195.38,-1621.67\"/>\n</g>\n<!-- 133651523936208 -->\n<g id=\"node35\" class=\"node\">\n<title>133651523936208</title>\n<polygon fill=\"lightblue\" stroke=\"black\" points=\"119,-1747 0,-1747 0,-1717 119,-1717 119,-1747\"/>\n<text text-anchor=\"middle\" x=\"59.5\" y=\"-1735\" font-family=\"monospace\" font-size=\"10.00\">x</text>\n<text text-anchor=\"middle\" x=\"59.5\" y=\"-1724\" font-family=\"monospace\" font-size=\"10.00\"> (1, 3, 128, 128)</text>\n</g>\n<!-- 133651523936208&#45;&gt;133651583465024 -->\n<g id=\"edge33\" class=\"edge\">\n<title>133651523936208&#45;&gt;133651583465024</title>\n<path fill=\"none\" stroke=\"black\" d=\"M60.39,-1716.8C60.96,-1707.7 61.7,-1695.79 62.32,-1685.9\"/>\n<polygon fill=\"black\" stroke=\"black\" points=\"65.82,-1686.04 62.95,-1675.84 58.83,-1685.61 65.82,-1686.04\"/>\n</g>\n<!-- 133651583465072 -->\n<g id=\"node36\" class=\"node\">\n<title>133651583465072</title>\n<polygon fill=\"lightgrey\" stroke=\"black\" points=\"235,-1675.5 134,-1675.5 134,-1656.5 235,-1656.5 235,-1675.5\"/>\n<text text-anchor=\"middle\" x=\"184.5\" y=\"-1663.5\" font-family=\"monospace\" font-size=\"10.00\">AccumulateGrad</text>\n</g>\n<!-- 133651583465072&#45;&gt;133651583466752 -->\n<g id=\"edge34\" class=\"edge\">\n<title>133651583465072&#45;&gt;133651583466752</title>\n<path fill=\"none\" stroke=\"black\" d=\"M190.84,-1656.37C197.2,-1647.73 207.14,-1634.2 215.07,-1623.42\"/>\n<polygon fill=\"black\" stroke=\"black\" points=\"218.03,-1625.3 221.13,-1615.17 212.39,-1621.15 218.03,-1625.3\"/>\n</g>\n<!-- 133651524843952 -->\n<g id=\"node37\" class=\"node\">\n<title>133651524843952</title>\n<polygon fill=\"lightblue\" stroke=\"black\" points=\"238,-1747 137,-1747 137,-1717 238,-1717 238,-1747\"/>\n<text text-anchor=\"middle\" x=\"187.5\" y=\"-1735\" font-family=\"monospace\" font-size=\"10.00\">cnn.0.weight</text>\n<text text-anchor=\"middle\" x=\"187.5\" y=\"-1724\" font-family=\"monospace\" font-size=\"10.00\"> (64, 3, 3, 3)</text>\n</g>\n<!-- 133651524843952&#45;&gt;133651583465072 -->\n<g id=\"edge35\" class=\"edge\">\n<title>133651524843952&#45;&gt;133651583465072</title>\n<path fill=\"none\" stroke=\"black\" d=\"M186.83,-1716.8C186.41,-1707.7 185.85,-1695.79 185.39,-1685.9\"/>\n<polygon fill=\"black\" stroke=\"black\" points=\"188.88,-1685.67 184.91,-1675.84 181.89,-1686 188.88,-1685.67\"/>\n</g>\n<!-- 133651583466128 -->\n<g id=\"node38\" class=\"node\">\n<title>133651583466128</title>\n<polygon fill=\"lightgrey\" stroke=\"black\" points=\"354,-1675.5 253,-1675.5 253,-1656.5 354,-1656.5 354,-1675.5\"/>\n<text text-anchor=\"middle\" x=\"303.5\" y=\"-1663.5\" font-family=\"monospace\" font-size=\"10.00\">AccumulateGrad</text>\n</g>\n<!-- 133651583466128&#45;&gt;133651583466752 -->\n<g id=\"edge36\" class=\"edge\">\n<title>133651583466128&#45;&gt;133651583466752</title>\n<path fill=\"none\" stroke=\"black\" d=\"M292.29,-1656.37C280.39,-1647.21 261.36,-1632.56 246.99,-1621.51\"/>\n<polygon fill=\"black\" stroke=\"black\" points=\"248.82,-1618.49 238.76,-1615.17 244.55,-1624.04 248.82,-1618.49\"/>\n</g>\n<!-- 133651523936592 -->\n<g id=\"node39\" class=\"node\">\n<title>133651523936592</title>\n<polygon fill=\"lightblue\" stroke=\"black\" points=\"342,-1747 265,-1747 265,-1717 342,-1717 342,-1747\"/>\n<text text-anchor=\"middle\" x=\"303.5\" y=\"-1735\" font-family=\"monospace\" font-size=\"10.00\">cnn.0.bias</text>\n<text text-anchor=\"middle\" x=\"303.5\" y=\"-1724\" font-family=\"monospace\" font-size=\"10.00\"> (64)</text>\n</g>\n<!-- 133651523936592&#45;&gt;133651583466128 -->\n<g id=\"edge37\" class=\"edge\">\n<title>133651523936592&#45;&gt;133651583466128</title>\n<path fill=\"none\" stroke=\"black\" d=\"M303.5,-1716.8C303.5,-1707.7 303.5,-1695.79 303.5,-1685.9\"/>\n<polygon fill=\"black\" stroke=\"black\" points=\"307,-1685.84 303.5,-1675.84 300,-1685.84 307,-1685.84\"/>\n</g>\n<!-- 133651583466704 -->\n<g id=\"node40\" class=\"node\">\n<title>133651583466704</title>\n<polygon fill=\"lightgrey\" stroke=\"black\" points=\"458,-1615 357,-1615 357,-1596 458,-1596 458,-1615\"/>\n<text text-anchor=\"middle\" x=\"407.5\" y=\"-1603\" font-family=\"monospace\" font-size=\"10.00\">AccumulateGrad</text>\n</g>\n<!-- 133651583466704&#45;&gt;133651583466608 -->\n<g id=\"edge38\" class=\"edge\">\n<title>133651583466704&#45;&gt;133651583466608</title>\n<path fill=\"none\" stroke=\"black\" d=\"M407.5,-1595.75C407.5,-1588.8 407.5,-1578.85 407.5,-1570.13\"/>\n<polygon fill=\"black\" stroke=\"black\" points=\"411,-1570.09 407.5,-1560.09 404,-1570.09 411,-1570.09\"/>\n</g>\n<!-- 133651577449808 -->\n<g id=\"node41\" class=\"node\">\n<title>133651577449808</title>\n<polygon fill=\"lightblue\" stroke=\"black\" points=\"461,-1681 372,-1681 372,-1651 461,-1651 461,-1681\"/>\n<text text-anchor=\"middle\" x=\"416.5\" y=\"-1669\" font-family=\"monospace\" font-size=\"10.00\">cnn.1.weight</text>\n<text text-anchor=\"middle\" x=\"416.5\" y=\"-1658\" font-family=\"monospace\" font-size=\"10.00\"> (64)</text>\n</g>\n<!-- 133651577449808&#45;&gt;133651583466704 -->\n<g id=\"edge39\" class=\"edge\">\n<title>133651577449808&#45;&gt;133651583466704</title>\n<path fill=\"none\" stroke=\"black\" d=\"M414.32,-1650.84C413.13,-1643.13 411.65,-1633.49 410.37,-1625.17\"/>\n<polygon fill=\"black\" stroke=\"black\" points=\"413.83,-1624.62 408.85,-1615.27 406.91,-1625.68 413.83,-1624.62\"/>\n</g>\n<!-- 133651583466560 -->\n<g id=\"node42\" class=\"node\">\n<title>133651583466560</title>\n<polygon fill=\"lightgrey\" stroke=\"black\" points=\"577,-1615 476,-1615 476,-1596 577,-1596 577,-1615\"/>\n<text text-anchor=\"middle\" x=\"526.5\" y=\"-1603\" font-family=\"monospace\" font-size=\"10.00\">AccumulateGrad</text>\n</g>\n<!-- 133651583466560&#45;&gt;133651583466608 -->\n<g id=\"edge40\" class=\"edge\">\n<title>133651583466560&#45;&gt;133651583466608</title>\n<path fill=\"none\" stroke=\"black\" d=\"M507.38,-1595.98C488.15,-1587.42 458.27,-1574.11 436.19,-1564.28\"/>\n<polygon fill=\"black\" stroke=\"black\" points=\"437.53,-1561.04 426.97,-1560.17 434.68,-1567.44 437.53,-1561.04\"/>\n</g>\n<!-- 133651577449424 -->\n<g id=\"node43\" class=\"node\">\n<title>133651577449424</title>\n<polygon fill=\"lightblue\" stroke=\"black\" points=\"565,-1681 488,-1681 488,-1651 565,-1651 565,-1681\"/>\n<text text-anchor=\"middle\" x=\"526.5\" y=\"-1669\" font-family=\"monospace\" font-size=\"10.00\">cnn.1.bias</text>\n<text text-anchor=\"middle\" x=\"526.5\" y=\"-1658\" font-family=\"monospace\" font-size=\"10.00\"> (64)</text>\n</g>\n<!-- 133651577449424&#45;&gt;133651583466560 -->\n<g id=\"edge41\" class=\"edge\">\n<title>133651577449424&#45;&gt;133651583466560</title>\n<path fill=\"none\" stroke=\"black\" d=\"M526.5,-1650.84C526.5,-1643.21 526.5,-1633.7 526.5,-1625.45\"/>\n<polygon fill=\"black\" stroke=\"black\" points=\"530,-1625.27 526.5,-1615.27 523,-1625.27 530,-1625.27\"/>\n</g>\n<!-- 133651583462960 -->\n<g id=\"node44\" class=\"node\">\n<title>133651583462960</title>\n<polygon fill=\"lightgrey\" stroke=\"black\" points=\"622,-1433.5 521,-1433.5 521,-1414.5 622,-1414.5 622,-1433.5\"/>\n<text text-anchor=\"middle\" x=\"571.5\" y=\"-1421.5\" font-family=\"monospace\" font-size=\"10.00\">AccumulateGrad</text>\n</g>\n<!-- 133651583462960&#45;&gt;133651583462912 -->\n<g id=\"edge42\" class=\"edge\">\n<title>133651583462960&#45;&gt;133651583462912</title>\n<path fill=\"none\" stroke=\"black\" d=\"M577.84,-1414.37C584.2,-1405.73 594.14,-1392.2 602.07,-1381.42\"/>\n<polygon fill=\"black\" stroke=\"black\" points=\"605.03,-1383.3 608.13,-1373.17 599.39,-1379.15 605.03,-1383.3\"/>\n</g>\n<!-- 133651577453648 -->\n<g id=\"node45\" class=\"node\">\n<title>133651577453648</title>\n<polygon fill=\"lightblue\" stroke=\"black\" points=\"628,-1505 515,-1505 515,-1475 628,-1475 628,-1505\"/>\n<text text-anchor=\"middle\" x=\"571.5\" y=\"-1493\" font-family=\"monospace\" font-size=\"10.00\">cnn.4.weight</text>\n<text text-anchor=\"middle\" x=\"571.5\" y=\"-1482\" font-family=\"monospace\" font-size=\"10.00\"> (128, 64, 3, 3)</text>\n</g>\n<!-- 133651577453648&#45;&gt;133651583462960 -->\n<g id=\"edge43\" class=\"edge\">\n<title>133651577453648&#45;&gt;133651583462960</title>\n<path fill=\"none\" stroke=\"black\" d=\"M571.5,-1474.8C571.5,-1465.7 571.5,-1453.79 571.5,-1443.9\"/>\n<polygon fill=\"black\" stroke=\"black\" points=\"575,-1443.84 571.5,-1433.84 568,-1443.84 575,-1443.84\"/>\n</g>\n<!-- 133651583463056 -->\n<g id=\"node46\" class=\"node\">\n<title>133651583463056</title>\n<polygon fill=\"lightgrey\" stroke=\"black\" points=\"741,-1433.5 640,-1433.5 640,-1414.5 741,-1414.5 741,-1433.5\"/>\n<text text-anchor=\"middle\" x=\"690.5\" y=\"-1421.5\" font-family=\"monospace\" font-size=\"10.00\">AccumulateGrad</text>\n</g>\n<!-- 133651583463056&#45;&gt;133651583462912 -->\n<g id=\"edge44\" class=\"edge\">\n<title>133651583463056&#45;&gt;133651583462912</title>\n<path fill=\"none\" stroke=\"black\" d=\"M679.29,-1414.37C667.39,-1405.21 648.36,-1390.56 633.99,-1379.51\"/>\n<polygon fill=\"black\" stroke=\"black\" points=\"635.82,-1376.49 625.76,-1373.17 631.55,-1382.04 635.82,-1376.49\"/>\n</g>\n<!-- 133651577453744 -->\n<g id=\"node47\" class=\"node\">\n<title>133651577453744</title>\n<polygon fill=\"lightblue\" stroke=\"black\" points=\"729,-1505 652,-1505 652,-1475 729,-1475 729,-1505\"/>\n<text text-anchor=\"middle\" x=\"690.5\" y=\"-1493\" font-family=\"monospace\" font-size=\"10.00\">cnn.4.bias</text>\n<text text-anchor=\"middle\" x=\"690.5\" y=\"-1482\" font-family=\"monospace\" font-size=\"10.00\"> (128)</text>\n</g>\n<!-- 133651577453744&#45;&gt;133651583463056 -->\n<g id=\"edge45\" class=\"edge\">\n<title>133651577453744&#45;&gt;133651583463056</title>\n<path fill=\"none\" stroke=\"black\" d=\"M690.5,-1474.8C690.5,-1465.7 690.5,-1453.79 690.5,-1443.9\"/>\n<polygon fill=\"black\" stroke=\"black\" points=\"694,-1443.84 690.5,-1433.84 687,-1443.84 694,-1443.84\"/>\n</g>\n<!-- 133651583462720 -->\n<g id=\"node48\" class=\"node\">\n<title>133651583462720</title>\n<polygon fill=\"lightgrey\" stroke=\"black\" points=\"845,-1373 744,-1373 744,-1354 845,-1354 845,-1373\"/>\n<text text-anchor=\"middle\" x=\"794.5\" y=\"-1361\" font-family=\"monospace\" font-size=\"10.00\">AccumulateGrad</text>\n</g>\n<!-- 133651583462720&#45;&gt;133651583462768 -->\n<g id=\"edge46\" class=\"edge\">\n<title>133651583462720&#45;&gt;133651583462768</title>\n<path fill=\"none\" stroke=\"black\" d=\"M794.5,-1353.75C794.5,-1346.8 794.5,-1336.85 794.5,-1328.13\"/>\n<polygon fill=\"black\" stroke=\"black\" points=\"798,-1328.09 794.5,-1318.09 791,-1328.09 798,-1328.09\"/>\n</g>\n<!-- 133651577453840 -->\n<g id=\"node49\" class=\"node\">\n<title>133651577453840</title>\n<polygon fill=\"lightblue\" stroke=\"black\" points=\"848,-1439 759,-1439 759,-1409 848,-1409 848,-1439\"/>\n<text text-anchor=\"middle\" x=\"803.5\" y=\"-1427\" font-family=\"monospace\" font-size=\"10.00\">cnn.5.weight</text>\n<text text-anchor=\"middle\" x=\"803.5\" y=\"-1416\" font-family=\"monospace\" font-size=\"10.00\"> (128)</text>\n</g>\n<!-- 133651577453840&#45;&gt;133651583462720 -->\n<g id=\"edge47\" class=\"edge\">\n<title>133651577453840&#45;&gt;133651583462720</title>\n<path fill=\"none\" stroke=\"black\" d=\"M801.32,-1408.84C800.13,-1401.13 798.65,-1391.49 797.37,-1383.17\"/>\n<polygon fill=\"black\" stroke=\"black\" points=\"800.83,-1382.62 795.85,-1373.27 793.91,-1383.68 800.83,-1382.62\"/>\n</g>\n<!-- 133651583459600 -->\n<g id=\"node50\" class=\"node\">\n<title>133651583459600</title>\n<polygon fill=\"lightgrey\" stroke=\"black\" points=\"964,-1373 863,-1373 863,-1354 964,-1354 964,-1373\"/>\n<text text-anchor=\"middle\" x=\"913.5\" y=\"-1361\" font-family=\"monospace\" font-size=\"10.00\">AccumulateGrad</text>\n</g>\n<!-- 133651583459600&#45;&gt;133651583462768 -->\n<g id=\"edge48\" class=\"edge\">\n<title>133651583459600&#45;&gt;133651583462768</title>\n<path fill=\"none\" stroke=\"black\" d=\"M894.38,-1353.98C875.15,-1345.42 845.27,-1332.11 823.19,-1322.28\"/>\n<polygon fill=\"black\" stroke=\"black\" points=\"824.53,-1319.04 813.97,-1318.17 821.68,-1325.44 824.53,-1319.04\"/>\n</g>\n<!-- 133651577453936 -->\n<g id=\"node51\" class=\"node\">\n<title>133651577453936</title>\n<polygon fill=\"lightblue\" stroke=\"black\" points=\"952,-1439 875,-1439 875,-1409 952,-1409 952,-1439\"/>\n<text text-anchor=\"middle\" x=\"913.5\" y=\"-1427\" font-family=\"monospace\" font-size=\"10.00\">cnn.5.bias</text>\n<text text-anchor=\"middle\" x=\"913.5\" y=\"-1416\" font-family=\"monospace\" font-size=\"10.00\"> (128)</text>\n</g>\n<!-- 133651577453936&#45;&gt;133651583459600 -->\n<g id=\"edge49\" class=\"edge\">\n<title>133651577453936&#45;&gt;133651583459600</title>\n<path fill=\"none\" stroke=\"black\" d=\"M913.5,-1408.84C913.5,-1401.21 913.5,-1391.7 913.5,-1383.45\"/>\n<polygon fill=\"black\" stroke=\"black\" points=\"917,-1383.27 913.5,-1373.27 910,-1383.27 917,-1383.27\"/>\n</g>\n<!-- 133651583464160 -->\n<g id=\"node52\" class=\"node\">\n<title>133651583464160</title>\n<polygon fill=\"lightgrey\" stroke=\"black\" points=\"1009,-1191.5 908,-1191.5 908,-1172.5 1009,-1172.5 1009,-1191.5\"/>\n<text text-anchor=\"middle\" x=\"958.5\" y=\"-1179.5\" font-family=\"monospace\" font-size=\"10.00\">AccumulateGrad</text>\n</g>\n<!-- 133651583464160&#45;&gt;133651583464832 -->\n<g id=\"edge50\" class=\"edge\">\n<title>133651583464160&#45;&gt;133651583464832</title>\n<path fill=\"none\" stroke=\"black\" d=\"M964.84,-1172.37C971.2,-1163.73 981.14,-1150.2 989.07,-1139.42\"/>\n<polygon fill=\"black\" stroke=\"black\" points=\"992.03,-1141.3 995.13,-1131.17 986.39,-1137.15 992.03,-1141.3\"/>\n</g>\n<!-- 133651577454320 -->\n<g id=\"node53\" class=\"node\">\n<title>133651577454320</title>\n<polygon fill=\"lightblue\" stroke=\"black\" points=\"1018,-1263 899,-1263 899,-1233 1018,-1233 1018,-1263\"/>\n<text text-anchor=\"middle\" x=\"958.5\" y=\"-1251\" font-family=\"monospace\" font-size=\"10.00\">cnn.8.weight</text>\n<text text-anchor=\"middle\" x=\"958.5\" y=\"-1240\" font-family=\"monospace\" font-size=\"10.00\"> (256, 128, 3, 3)</text>\n</g>\n<!-- 133651577454320&#45;&gt;133651583464160 -->\n<g id=\"edge51\" class=\"edge\">\n<title>133651577454320&#45;&gt;133651583464160</title>\n<path fill=\"none\" stroke=\"black\" d=\"M958.5,-1232.8C958.5,-1223.7 958.5,-1211.79 958.5,-1201.9\"/>\n<polygon fill=\"black\" stroke=\"black\" points=\"962,-1201.84 958.5,-1191.84 955,-1201.84 962,-1201.84\"/>\n</g>\n<!-- 133651583464208 -->\n<g id=\"node54\" class=\"node\">\n<title>133651583464208</title>\n<polygon fill=\"lightgrey\" stroke=\"black\" points=\"1128,-1191.5 1027,-1191.5 1027,-1172.5 1128,-1172.5 1128,-1191.5\"/>\n<text text-anchor=\"middle\" x=\"1077.5\" y=\"-1179.5\" font-family=\"monospace\" font-size=\"10.00\">AccumulateGrad</text>\n</g>\n<!-- 133651583464208&#45;&gt;133651583464832 -->\n<g id=\"edge52\" class=\"edge\">\n<title>133651583464208&#45;&gt;133651583464832</title>\n<path fill=\"none\" stroke=\"black\" d=\"M1066.29,-1172.37C1054.39,-1163.21 1035.36,-1148.56 1020.99,-1137.51\"/>\n<polygon fill=\"black\" stroke=\"black\" points=\"1022.82,-1134.49 1012.76,-1131.17 1018.55,-1140.04 1022.82,-1134.49\"/>\n</g>\n<!-- 133651577454416 -->\n<g id=\"node55\" class=\"node\">\n<title>133651577454416</title>\n<polygon fill=\"lightblue\" stroke=\"black\" points=\"1116,-1263 1039,-1263 1039,-1233 1116,-1233 1116,-1263\"/>\n<text text-anchor=\"middle\" x=\"1077.5\" y=\"-1251\" font-family=\"monospace\" font-size=\"10.00\">cnn.8.bias</text>\n<text text-anchor=\"middle\" x=\"1077.5\" y=\"-1240\" font-family=\"monospace\" font-size=\"10.00\"> (256)</text>\n</g>\n<!-- 133651577454416&#45;&gt;133651583464208 -->\n<g id=\"edge53\" class=\"edge\">\n<title>133651577454416&#45;&gt;133651583464208</title>\n<path fill=\"none\" stroke=\"black\" d=\"M1077.5,-1232.8C1077.5,-1223.7 1077.5,-1211.79 1077.5,-1201.9\"/>\n<polygon fill=\"black\" stroke=\"black\" points=\"1081,-1201.84 1077.5,-1191.84 1074,-1201.84 1081,-1201.84\"/>\n</g>\n<!-- 133651583458976 -->\n<g id=\"node56\" class=\"node\">\n<title>133651583458976</title>\n<polygon fill=\"lightgrey\" stroke=\"black\" points=\"1232,-1131 1131,-1131 1131,-1112 1232,-1112 1232,-1131\"/>\n<text text-anchor=\"middle\" x=\"1181.5\" y=\"-1119\" font-family=\"monospace\" font-size=\"10.00\">AccumulateGrad</text>\n</g>\n<!-- 133651583458976&#45;&gt;133651583461472 -->\n<g id=\"edge54\" class=\"edge\">\n<title>133651583458976&#45;&gt;133651583461472</title>\n<path fill=\"none\" stroke=\"black\" d=\"M1181.5,-1111.75C1181.5,-1104.8 1181.5,-1094.85 1181.5,-1086.13\"/>\n<polygon fill=\"black\" stroke=\"black\" points=\"1185,-1086.09 1181.5,-1076.09 1178,-1086.09 1185,-1086.09\"/>\n</g>\n<!-- 133651577454512 -->\n<g id=\"node57\" class=\"node\">\n<title>133651577454512</title>\n<polygon fill=\"lightblue\" stroke=\"black\" points=\"1235,-1197 1146,-1197 1146,-1167 1235,-1167 1235,-1197\"/>\n<text text-anchor=\"middle\" x=\"1190.5\" y=\"-1185\" font-family=\"monospace\" font-size=\"10.00\">cnn.9.weight</text>\n<text text-anchor=\"middle\" x=\"1190.5\" y=\"-1174\" font-family=\"monospace\" font-size=\"10.00\"> (256)</text>\n</g>\n<!-- 133651577454512&#45;&gt;133651583458976 -->\n<g id=\"edge55\" class=\"edge\">\n<title>133651577454512&#45;&gt;133651583458976</title>\n<path fill=\"none\" stroke=\"black\" d=\"M1188.32,-1166.84C1187.13,-1159.13 1185.65,-1149.49 1184.37,-1141.17\"/>\n<polygon fill=\"black\" stroke=\"black\" points=\"1187.83,-1140.62 1182.85,-1131.27 1180.91,-1141.68 1187.83,-1140.62\"/>\n</g>\n<!-- 133651583463536 -->\n<g id=\"node58\" class=\"node\">\n<title>133651583463536</title>\n<polygon fill=\"lightgrey\" stroke=\"black\" points=\"1351,-1131 1250,-1131 1250,-1112 1351,-1112 1351,-1131\"/>\n<text text-anchor=\"middle\" x=\"1300.5\" y=\"-1119\" font-family=\"monospace\" font-size=\"10.00\">AccumulateGrad</text>\n</g>\n<!-- 133651583463536&#45;&gt;133651583461472 -->\n<g id=\"edge56\" class=\"edge\">\n<title>133651583463536&#45;&gt;133651583461472</title>\n<path fill=\"none\" stroke=\"black\" d=\"M1281.38,-1111.98C1262.15,-1103.42 1232.27,-1090.11 1210.19,-1080.28\"/>\n<polygon fill=\"black\" stroke=\"black\" points=\"1211.53,-1077.04 1200.97,-1076.17 1208.68,-1083.44 1211.53,-1077.04\"/>\n</g>\n<!-- 133651577176144 -->\n<g id=\"node59\" class=\"node\">\n<title>133651577176144</title>\n<polygon fill=\"lightblue\" stroke=\"black\" points=\"1339,-1197 1262,-1197 1262,-1167 1339,-1167 1339,-1197\"/>\n<text text-anchor=\"middle\" x=\"1300.5\" y=\"-1185\" font-family=\"monospace\" font-size=\"10.00\">cnn.9.bias</text>\n<text text-anchor=\"middle\" x=\"1300.5\" y=\"-1174\" font-family=\"monospace\" font-size=\"10.00\"> (256)</text>\n</g>\n<!-- 133651577176144&#45;&gt;133651583463536 -->\n<g id=\"edge57\" class=\"edge\">\n<title>133651577176144&#45;&gt;133651583463536</title>\n<path fill=\"none\" stroke=\"black\" d=\"M1300.5,-1166.84C1300.5,-1159.21 1300.5,-1149.7 1300.5,-1141.45\"/>\n<polygon fill=\"black\" stroke=\"black\" points=\"1304,-1141.27 1300.5,-1131.27 1297,-1141.27 1304,-1141.27\"/>\n</g>\n<!-- 133651583463728 -->\n<g id=\"node60\" class=\"node\">\n<title>133651583463728</title>\n<polygon fill=\"lightgrey\" stroke=\"black\" points=\"1396,-949.5 1295,-949.5 1295,-930.5 1396,-930.5 1396,-949.5\"/>\n<text text-anchor=\"middle\" x=\"1345.5\" y=\"-937.5\" font-family=\"monospace\" font-size=\"10.00\">AccumulateGrad</text>\n</g>\n<!-- 133651583463728&#45;&gt;133651583463872 -->\n<g id=\"edge58\" class=\"edge\">\n<title>133651583463728&#45;&gt;133651583463872</title>\n<path fill=\"none\" stroke=\"black\" d=\"M1352.29,-930.37C1359.15,-921.64 1369.93,-907.93 1378.45,-897.09\"/>\n<polygon fill=\"black\" stroke=\"black\" points=\"1381.25,-899.19 1384.68,-889.17 1375.75,-894.86 1381.25,-899.19\"/>\n</g>\n<!-- 133651577176528 -->\n<g id=\"node61\" class=\"node\">\n<title>133651577176528</title>\n<polygon fill=\"lightblue\" stroke=\"black\" points=\"1405,-1021 1286,-1021 1286,-991 1405,-991 1405,-1021\"/>\n<text text-anchor=\"middle\" x=\"1345.5\" y=\"-1009\" font-family=\"monospace\" font-size=\"10.00\">cnn.12.weight</text>\n<text text-anchor=\"middle\" x=\"1345.5\" y=\"-998\" font-family=\"monospace\" font-size=\"10.00\"> (512, 256, 3, 3)</text>\n</g>\n<!-- 133651577176528&#45;&gt;133651583463728 -->\n<g id=\"edge59\" class=\"edge\">\n<title>133651577176528&#45;&gt;133651583463728</title>\n<path fill=\"none\" stroke=\"black\" d=\"M1345.5,-990.8C1345.5,-981.7 1345.5,-969.79 1345.5,-959.9\"/>\n<polygon fill=\"black\" stroke=\"black\" points=\"1349,-959.84 1345.5,-949.84 1342,-959.84 1349,-959.84\"/>\n</g>\n<!-- 133651583463776 -->\n<g id=\"node62\" class=\"node\">\n<title>133651583463776</title>\n<polygon fill=\"lightgrey\" stroke=\"black\" points=\"1515,-949.5 1414,-949.5 1414,-930.5 1515,-930.5 1515,-949.5\"/>\n<text text-anchor=\"middle\" x=\"1464.5\" y=\"-937.5\" font-family=\"monospace\" font-size=\"10.00\">AccumulateGrad</text>\n</g>\n<!-- 133651583463776&#45;&gt;133651583463872 -->\n<g id=\"edge60\" class=\"edge\">\n<title>133651583463776&#45;&gt;133651583463872</title>\n<path fill=\"none\" stroke=\"black\" d=\"M1453.73,-930.37C1442.3,-921.21 1424.02,-906.56 1410.22,-895.51\"/>\n<polygon fill=\"black\" stroke=\"black\" points=\"1412.31,-892.69 1402.32,-889.17 1407.93,-898.15 1412.31,-892.69\"/>\n</g>\n<!-- 133651577176624 -->\n<g id=\"node63\" class=\"node\">\n<title>133651577176624</title>\n<polygon fill=\"lightblue\" stroke=\"black\" points=\"1506,-1021 1423,-1021 1423,-991 1506,-991 1506,-1021\"/>\n<text text-anchor=\"middle\" x=\"1464.5\" y=\"-1009\" font-family=\"monospace\" font-size=\"10.00\">cnn.12.bias</text>\n<text text-anchor=\"middle\" x=\"1464.5\" y=\"-998\" font-family=\"monospace\" font-size=\"10.00\"> (512)</text>\n</g>\n<!-- 133651577176624&#45;&gt;133651583463776 -->\n<g id=\"edge61\" class=\"edge\">\n<title>133651577176624&#45;&gt;133651583463776</title>\n<path fill=\"none\" stroke=\"black\" d=\"M1464.5,-990.8C1464.5,-981.7 1464.5,-969.79 1464.5,-959.9\"/>\n<polygon fill=\"black\" stroke=\"black\" points=\"1468,-959.84 1464.5,-949.84 1461,-959.84 1468,-959.84\"/>\n</g>\n<!-- 133651583463920 -->\n<g id=\"node64\" class=\"node\">\n<title>133651583463920</title>\n<polygon fill=\"lightgrey\" stroke=\"black\" points=\"1625,-889 1524,-889 1524,-870 1625,-870 1625,-889\"/>\n<text text-anchor=\"middle\" x=\"1574.5\" y=\"-877\" font-family=\"monospace\" font-size=\"10.00\">AccumulateGrad</text>\n</g>\n<!-- 133651583463920&#45;&gt;133651583461904 -->\n<g id=\"edge62\" class=\"edge\">\n<title>133651583463920&#45;&gt;133651583461904</title>\n<path fill=\"none\" stroke=\"black\" d=\"M1574.5,-869.75C1574.5,-862.8 1574.5,-852.85 1574.5,-844.13\"/>\n<polygon fill=\"black\" stroke=\"black\" points=\"1578,-844.09 1574.5,-834.09 1571,-844.09 1578,-844.09\"/>\n</g>\n<!-- 133651577176720 -->\n<g id=\"node65\" class=\"node\">\n<title>133651577176720</title>\n<polygon fill=\"lightblue\" stroke=\"black\" points=\"1628,-955 1533,-955 1533,-925 1628,-925 1628,-955\"/>\n<text text-anchor=\"middle\" x=\"1580.5\" y=\"-943\" font-family=\"monospace\" font-size=\"10.00\">cnn.13.weight</text>\n<text text-anchor=\"middle\" x=\"1580.5\" y=\"-932\" font-family=\"monospace\" font-size=\"10.00\"> (512)</text>\n</g>\n<!-- 133651577176720&#45;&gt;133651583463920 -->\n<g id=\"edge63\" class=\"edge\">\n<title>133651577176720&#45;&gt;133651583463920</title>\n<path fill=\"none\" stroke=\"black\" d=\"M1579.05,-924.84C1578.27,-917.21 1577.29,-907.7 1576.44,-899.45\"/>\n<polygon fill=\"black\" stroke=\"black\" points=\"1579.9,-898.86 1575.4,-889.27 1572.94,-899.57 1579.9,-898.86\"/>\n</g>\n<!-- 133651583458640 -->\n<g id=\"node66\" class=\"node\">\n<title>133651583458640</title>\n<polygon fill=\"lightgrey\" stroke=\"black\" points=\"1744,-889 1643,-889 1643,-870 1744,-870 1744,-889\"/>\n<text text-anchor=\"middle\" x=\"1693.5\" y=\"-877\" font-family=\"monospace\" font-size=\"10.00\">AccumulateGrad</text>\n</g>\n<!-- 133651583458640&#45;&gt;133651583461904 -->\n<g id=\"edge64\" class=\"edge\">\n<title>133651583458640&#45;&gt;133651583461904</title>\n<path fill=\"none\" stroke=\"black\" d=\"M1674.38,-869.98C1655.15,-861.42 1625.27,-848.11 1603.19,-838.28\"/>\n<polygon fill=\"black\" stroke=\"black\" points=\"1604.53,-835.04 1593.97,-834.17 1601.68,-841.44 1604.53,-835.04\"/>\n</g>\n<!-- 133651577176816 -->\n<g id=\"node67\" class=\"node\">\n<title>133651577176816</title>\n<polygon fill=\"lightblue\" stroke=\"black\" points=\"1735,-955 1652,-955 1652,-925 1735,-925 1735,-955\"/>\n<text text-anchor=\"middle\" x=\"1693.5\" y=\"-943\" font-family=\"monospace\" font-size=\"10.00\">cnn.13.bias</text>\n<text text-anchor=\"middle\" x=\"1693.5\" y=\"-932\" font-family=\"monospace\" font-size=\"10.00\"> (512)</text>\n</g>\n<!-- 133651577176816&#45;&gt;133651583458640 -->\n<g id=\"edge65\" class=\"edge\">\n<title>133651577176816&#45;&gt;133651583458640</title>\n<path fill=\"none\" stroke=\"black\" d=\"M1693.5,-924.84C1693.5,-917.21 1693.5,-907.7 1693.5,-899.45\"/>\n<polygon fill=\"black\" stroke=\"black\" points=\"1697,-899.27 1693.5,-889.27 1690,-899.27 1697,-899.27\"/>\n</g>\n<!-- 133651583461616 -->\n<g id=\"node68\" class=\"node\">\n<title>133651583461616</title>\n<polygon fill=\"lightgrey\" stroke=\"black\" points=\"1789,-707.5 1688,-707.5 1688,-688.5 1789,-688.5 1789,-707.5\"/>\n<text text-anchor=\"middle\" x=\"1738.5\" y=\"-695.5\" font-family=\"monospace\" font-size=\"10.00\">AccumulateGrad</text>\n</g>\n<!-- 133651583461616&#45;&gt;133651583459840 -->\n<g id=\"edge66\" class=\"edge\">\n<title>133651583461616&#45;&gt;133651583459840</title>\n<path fill=\"none\" stroke=\"black\" d=\"M1745.29,-688.37C1752.15,-679.64 1762.93,-665.93 1771.45,-655.09\"/>\n<polygon fill=\"black\" stroke=\"black\" points=\"1774.25,-657.19 1777.68,-647.17 1768.75,-652.86 1774.25,-657.19\"/>\n</g>\n<!-- 133651577177200 -->\n<g id=\"node69\" class=\"node\">\n<title>133651577177200</title>\n<polygon fill=\"lightblue\" stroke=\"black\" points=\"1798,-779 1679,-779 1679,-749 1798,-749 1798,-779\"/>\n<text text-anchor=\"middle\" x=\"1738.5\" y=\"-767\" font-family=\"monospace\" font-size=\"10.00\">cnn.16.weight</text>\n<text text-anchor=\"middle\" x=\"1738.5\" y=\"-756\" font-family=\"monospace\" font-size=\"10.00\"> (512, 512, 3, 3)</text>\n</g>\n<!-- 133651577177200&#45;&gt;133651583461616 -->\n<g id=\"edge67\" class=\"edge\">\n<title>133651577177200&#45;&gt;133651583461616</title>\n<path fill=\"none\" stroke=\"black\" d=\"M1738.5,-748.8C1738.5,-739.7 1738.5,-727.79 1738.5,-717.9\"/>\n<polygon fill=\"black\" stroke=\"black\" points=\"1742,-717.84 1738.5,-707.84 1735,-717.84 1742,-717.84\"/>\n</g>\n<!-- 133651583466032 -->\n<g id=\"node70\" class=\"node\">\n<title>133651583466032</title>\n<polygon fill=\"lightgrey\" stroke=\"black\" points=\"1908,-707.5 1807,-707.5 1807,-688.5 1908,-688.5 1908,-707.5\"/>\n<text text-anchor=\"middle\" x=\"1857.5\" y=\"-695.5\" font-family=\"monospace\" font-size=\"10.00\">AccumulateGrad</text>\n</g>\n<!-- 133651583466032&#45;&gt;133651583459840 -->\n<g id=\"edge68\" class=\"edge\">\n<title>133651583466032&#45;&gt;133651583459840</title>\n<path fill=\"none\" stroke=\"black\" d=\"M1846.73,-688.37C1835.3,-679.21 1817.02,-664.56 1803.22,-653.51\"/>\n<polygon fill=\"black\" stroke=\"black\" points=\"1805.31,-650.69 1795.32,-647.17 1800.93,-656.15 1805.31,-650.69\"/>\n</g>\n<!-- 133651577177296 -->\n<g id=\"node71\" class=\"node\">\n<title>133651577177296</title>\n<polygon fill=\"lightblue\" stroke=\"black\" points=\"1899,-779 1816,-779 1816,-749 1899,-749 1899,-779\"/>\n<text text-anchor=\"middle\" x=\"1857.5\" y=\"-767\" font-family=\"monospace\" font-size=\"10.00\">cnn.16.bias</text>\n<text text-anchor=\"middle\" x=\"1857.5\" y=\"-756\" font-family=\"monospace\" font-size=\"10.00\"> (512)</text>\n</g>\n<!-- 133651577177296&#45;&gt;133651583466032 -->\n<g id=\"edge69\" class=\"edge\">\n<title>133651577177296&#45;&gt;133651583466032</title>\n<path fill=\"none\" stroke=\"black\" d=\"M1857.5,-748.8C1857.5,-739.7 1857.5,-727.79 1857.5,-717.9\"/>\n<polygon fill=\"black\" stroke=\"black\" points=\"1861,-717.84 1857.5,-707.84 1854,-717.84 1861,-717.84\"/>\n</g>\n<!-- 133651583459504 -->\n<g id=\"node72\" class=\"node\">\n<title>133651583459504</title>\n<polygon fill=\"lightgrey\" stroke=\"black\" points=\"2018,-647 1917,-647 1917,-628 2018,-628 2018,-647\"/>\n<text text-anchor=\"middle\" x=\"1967.5\" y=\"-635\" font-family=\"monospace\" font-size=\"10.00\">AccumulateGrad</text>\n</g>\n<!-- 133651583459504&#45;&gt;133651583463488 -->\n<g id=\"edge70\" class=\"edge\">\n<title>133651583459504&#45;&gt;133651583463488</title>\n<path fill=\"none\" stroke=\"black\" d=\"M1967.5,-627.75C1967.5,-620.8 1967.5,-610.85 1967.5,-602.13\"/>\n<polygon fill=\"black\" stroke=\"black\" points=\"1971,-602.09 1967.5,-592.09 1964,-602.09 1971,-602.09\"/>\n</g>\n<!-- 133651577177392 -->\n<g id=\"node73\" class=\"node\">\n<title>133651577177392</title>\n<polygon fill=\"lightblue\" stroke=\"black\" points=\"2021,-713 1926,-713 1926,-683 2021,-683 2021,-713\"/>\n<text text-anchor=\"middle\" x=\"1973.5\" y=\"-701\" font-family=\"monospace\" font-size=\"10.00\">cnn.17.weight</text>\n<text text-anchor=\"middle\" x=\"1973.5\" y=\"-690\" font-family=\"monospace\" font-size=\"10.00\"> (512)</text>\n</g>\n<!-- 133651577177392&#45;&gt;133651583459504 -->\n<g id=\"edge71\" class=\"edge\">\n<title>133651577177392&#45;&gt;133651583459504</title>\n<path fill=\"none\" stroke=\"black\" d=\"M1972.05,-682.84C1971.27,-675.21 1970.29,-665.7 1969.44,-657.45\"/>\n<polygon fill=\"black\" stroke=\"black\" points=\"1972.9,-656.86 1968.4,-647.27 1965.94,-657.57 1972.9,-656.86\"/>\n</g>\n<!-- 133651583465600 -->\n<g id=\"node74\" class=\"node\">\n<title>133651583465600</title>\n<polygon fill=\"lightgrey\" stroke=\"black\" points=\"2137,-647 2036,-647 2036,-628 2137,-628 2137,-647\"/>\n<text text-anchor=\"middle\" x=\"2086.5\" y=\"-635\" font-family=\"monospace\" font-size=\"10.00\">AccumulateGrad</text>\n</g>\n<!-- 133651583465600&#45;&gt;133651583463488 -->\n<g id=\"edge72\" class=\"edge\">\n<title>133651583465600&#45;&gt;133651583463488</title>\n<path fill=\"none\" stroke=\"black\" d=\"M2067.38,-627.98C2048.15,-619.42 2018.27,-606.11 1996.19,-596.28\"/>\n<polygon fill=\"black\" stroke=\"black\" points=\"1997.53,-593.04 1986.97,-592.17 1994.68,-599.44 1997.53,-593.04\"/>\n</g>\n<!-- 133651577177488 -->\n<g id=\"node75\" class=\"node\">\n<title>133651577177488</title>\n<polygon fill=\"lightblue\" stroke=\"black\" points=\"2128,-713 2045,-713 2045,-683 2128,-683 2128,-713\"/>\n<text text-anchor=\"middle\" x=\"2086.5\" y=\"-701\" font-family=\"monospace\" font-size=\"10.00\">cnn.17.bias</text>\n<text text-anchor=\"middle\" x=\"2086.5\" y=\"-690\" font-family=\"monospace\" font-size=\"10.00\"> (512)</text>\n</g>\n<!-- 133651577177488&#45;&gt;133651583465600 -->\n<g id=\"edge73\" class=\"edge\">\n<title>133651577177488&#45;&gt;133651583465600</title>\n<path fill=\"none\" stroke=\"black\" d=\"M2086.5,-682.84C2086.5,-675.21 2086.5,-665.7 2086.5,-657.45\"/>\n<polygon fill=\"black\" stroke=\"black\" points=\"2090,-657.27 2086.5,-647.27 2083,-657.27 2090,-657.27\"/>\n</g>\n<!-- 133651583460896 -->\n<g id=\"node76\" class=\"node\">\n<title>133651583460896</title>\n<polygon fill=\"lightgrey\" stroke=\"black\" points=\"2110,-399.5 2033,-399.5 2033,-380.5 2110,-380.5 2110,-399.5\"/>\n<text text-anchor=\"middle\" x=\"2071.5\" y=\"-387.5\" font-family=\"monospace\" font-size=\"10.00\">TBackward0</text>\n</g>\n<!-- 133651583460896&#45;&gt;133651583464496 -->\n<g id=\"edge74\" class=\"edge\">\n<title>133651583460896&#45;&gt;133651583464496</title>\n<path fill=\"none\" stroke=\"black\" d=\"M2060.31,-380.37C2046.94,-370.06 2024.35,-352.65 2008.08,-340.09\"/>\n<polygon fill=\"black\" stroke=\"black\" points=\"2009.84,-337.03 1999.78,-333.7 2005.56,-342.58 2009.84,-337.03\"/>\n</g>\n<!-- 133651583459024 -->\n<g id=\"node77\" class=\"node\">\n<title>133651583459024</title>\n<polygon fill=\"lightgrey\" stroke=\"black\" points=\"2182,-465.5 2081,-465.5 2081,-446.5 2182,-446.5 2182,-465.5\"/>\n<text text-anchor=\"middle\" x=\"2131.5\" y=\"-453.5\" font-family=\"monospace\" font-size=\"10.00\">AccumulateGrad</text>\n</g>\n<!-- 133651583459024&#45;&gt;133651583460896 -->\n<g id=\"edge75\" class=\"edge\">\n<title>133651583459024&#45;&gt;133651583460896</title>\n<path fill=\"none\" stroke=\"black\" d=\"M2123.41,-446.37C2114.07,-436.4 2098.49,-419.79 2086.84,-407.36\"/>\n<polygon fill=\"black\" stroke=\"black\" points=\"2089.24,-404.81 2079.85,-399.91 2084.13,-409.59 2089.24,-404.81\"/>\n</g>\n<!-- 133651577177872 -->\n<g id=\"node78\" class=\"node\">\n<title>133651577177872</title>\n<polygon fill=\"lightblue\" stroke=\"black\" points=\"2179,-537 2084,-537 2084,-507 2179,-507 2179,-537\"/>\n<text text-anchor=\"middle\" x=\"2131.5\" y=\"-525\" font-family=\"monospace\" font-size=\"10.00\">fc.0.weight</text>\n<text text-anchor=\"middle\" x=\"2131.5\" y=\"-514\" font-family=\"monospace\" font-size=\"10.00\"> (1024, 8192)</text>\n</g>\n<!-- 133651577177872&#45;&gt;133651583459024 -->\n<g id=\"edge76\" class=\"edge\">\n<title>133651577177872&#45;&gt;133651583459024</title>\n<path fill=\"none\" stroke=\"black\" d=\"M2131.5,-506.8C2131.5,-497.7 2131.5,-485.79 2131.5,-475.9\"/>\n<polygon fill=\"black\" stroke=\"black\" points=\"2135,-475.84 2131.5,-465.84 2128,-475.84 2135,-475.84\"/>\n</g>\n<!-- 133651583459888 -->\n<g id=\"node79\" class=\"node\">\n<title>133651583459888</title>\n<polygon fill=\"lightgrey\" stroke=\"black\" points=\"2137,-267.5 2060,-267.5 2060,-248.5 2137,-248.5 2137,-267.5\"/>\n<text text-anchor=\"middle\" x=\"2098.5\" y=\"-255.5\" font-family=\"monospace\" font-size=\"10.00\">TBackward0</text>\n</g>\n<!-- 133651583459888&#45;&gt;133651583467472 -->\n<g id=\"edge77\" class=\"edge\">\n<title>133651583459888&#45;&gt;133651583467472</title>\n<path fill=\"none\" stroke=\"black\" d=\"M2087.31,-248.37C2073.94,-238.06 2051.35,-220.65 2035.08,-208.09\"/>\n<polygon fill=\"black\" stroke=\"black\" points=\"2036.84,-205.03 2026.78,-201.7 2032.56,-210.58 2036.84,-205.03\"/>\n</g>\n<!-- 133651583462336 -->\n<g id=\"node80\" class=\"node\">\n<title>133651583462336</title>\n<polygon fill=\"lightgrey\" stroke=\"black\" points=\"2201,-333.5 2100,-333.5 2100,-314.5 2201,-314.5 2201,-333.5\"/>\n<text text-anchor=\"middle\" x=\"2150.5\" y=\"-321.5\" font-family=\"monospace\" font-size=\"10.00\">AccumulateGrad</text>\n</g>\n<!-- 133651583462336&#45;&gt;133651583459888 -->\n<g id=\"edge78\" class=\"edge\">\n<title>133651583462336&#45;&gt;133651583459888</title>\n<path fill=\"none\" stroke=\"black\" d=\"M2143.49,-314.37C2135.47,-304.5 2122.15,-288.11 2112.08,-275.72\"/>\n<polygon fill=\"black\" stroke=\"black\" points=\"2114.76,-273.46 2105.74,-267.91 2109.33,-277.87 2114.76,-273.46\"/>\n</g>\n<!-- 133651577178064 -->\n<g id=\"node81\" class=\"node\">\n<title>133651577178064</title>\n<polygon fill=\"lightblue\" stroke=\"black\" points=\"2217,-405 2128,-405 2128,-375 2217,-375 2217,-405\"/>\n<text text-anchor=\"middle\" x=\"2172.5\" y=\"-393\" font-family=\"monospace\" font-size=\"10.00\">fc.2.weight</text>\n<text text-anchor=\"middle\" x=\"2172.5\" y=\"-382\" font-family=\"monospace\" font-size=\"10.00\"> (512, 1024)</text>\n</g>\n<!-- 133651577178064&#45;&gt;133651583462336 -->\n<g id=\"edge79\" class=\"edge\">\n<title>133651577178064&#45;&gt;133651583462336</title>\n<path fill=\"none\" stroke=\"black\" d=\"M2167.62,-374.8C2164.46,-365.6 2160.31,-353.53 2156.89,-343.58\"/>\n<polygon fill=\"black\" stroke=\"black\" points=\"2160.1,-342.16 2153.54,-333.84 2153.48,-344.44 2160.1,-342.16\"/>\n</g>\n<!-- 133651583466944 -->\n<g id=\"node82\" class=\"node\">\n<title>133651583466944</title>\n<polygon fill=\"lightgrey\" stroke=\"black\" points=\"2189,-141 2112,-141 2112,-122 2189,-122 2189,-141\"/>\n<text text-anchor=\"middle\" x=\"2150.5\" y=\"-129\" font-family=\"monospace\" font-size=\"10.00\">TBackward0</text>\n</g>\n<!-- 133651583466944&#45;&gt;133651583465648 -->\n<g id=\"edge80\" class=\"edge\">\n<title>133651583466944&#45;&gt;133651583465648</title>\n<path fill=\"none\" stroke=\"black\" d=\"M2129.77,-121.98C2108.74,-113.34 2075.95,-99.87 2051.96,-90.02\"/>\n<polygon fill=\"black\" stroke=\"black\" points=\"2053.18,-86.73 2042.6,-86.17 2050.52,-93.21 2053.18,-86.73\"/>\n</g>\n<!-- 133651583465456 -->\n<g id=\"node83\" class=\"node\">\n<title>133651583465456</title>\n<polygon fill=\"lightgrey\" stroke=\"black\" points=\"2226,-201.5 2125,-201.5 2125,-182.5 2226,-182.5 2226,-201.5\"/>\n<text text-anchor=\"middle\" x=\"2175.5\" y=\"-189.5\" font-family=\"monospace\" font-size=\"10.00\">AccumulateGrad</text>\n</g>\n<!-- 133651583465456&#45;&gt;133651583466944 -->\n<g id=\"edge81\" class=\"edge\">\n<title>133651583465456&#45;&gt;133651583466944</title>\n<path fill=\"none\" stroke=\"black\" d=\"M2171.81,-182.37C2168.23,-173.99 2162.68,-161.01 2158.15,-150.39\"/>\n<polygon fill=\"black\" stroke=\"black\" points=\"2161.35,-148.99 2154.2,-141.17 2154.92,-151.74 2161.35,-148.99\"/>\n</g>\n<!-- 133651577178256 -->\n<g id=\"node84\" class=\"node\">\n<title>133651577178256</title>\n<polygon fill=\"lightblue\" stroke=\"black\" points=\"2238,-273 2155,-273 2155,-243 2238,-243 2238,-273\"/>\n<text text-anchor=\"middle\" x=\"2196.5\" y=\"-261\" font-family=\"monospace\" font-size=\"10.00\">fc.4.weight</text>\n<text text-anchor=\"middle\" x=\"2196.5\" y=\"-250\" font-family=\"monospace\" font-size=\"10.00\"> (11, 512)</text>\n</g>\n<!-- 133651577178256&#45;&gt;133651583465456 -->\n<g id=\"edge82\" class=\"edge\">\n<title>133651577178256&#45;&gt;133651583465456</title>\n<path fill=\"none\" stroke=\"black\" d=\"M2191.84,-242.8C2188.82,-233.6 2184.86,-221.53 2181.6,-211.58\"/>\n<polygon fill=\"black\" stroke=\"black\" points=\"2184.85,-210.25 2178.4,-201.84 2178.19,-212.44 2184.85,-210.25\"/>\n</g>\n</g>\n</svg>\n",
            "text/plain": [
              "<graphviz.graphs.Digraph at 0x798e2ed03590>"
            ]
          },
          "metadata": {},
          "execution_count": 32
        }
      ],
      "source": [
        "x = torch.randn(1, 3, 128, 128).requires_grad_(True)\n",
        "model_plot(Classifier, x)"
      ]
    },
    {
      "cell_type": "markdown",
      "metadata": {
        "execution": {
          "iopub.execute_input": "2022-11-29T09:39:48.521544Z",
          "iopub.status.busy": "2022-11-29T09:39:48.521095Z",
          "iopub.status.idle": "2022-11-29T09:39:48.526480Z",
          "shell.execute_reply": "2022-11-29T09:39:48.525630Z",
          "shell.execute_reply.started": "2022-11-29T09:39:48.521479Z"
        },
        "id": "GfUB-dT0RkD7"
      },
      "source": [
        "#   &#x2728; 训练部分"
      ]
    },
    {
      "cell_type": "code",
      "execution_count": 33,
      "metadata": {
        "execution": {
          "iopub.execute_input": "2022-12-01T14:14:16.199106Z",
          "iopub.status.busy": "2022-12-01T14:14:16.198729Z",
          "iopub.status.idle": "2022-12-01T14:14:16.224185Z",
          "shell.execute_reply": "2022-12-01T14:14:16.222995Z",
          "shell.execute_reply.started": "2022-12-01T14:14:16.199063Z"
        },
        "id": "DGhOlKXTRkD7"
      },
      "outputs": [],
      "source": [
        "def trainer(train_loader, valid_loader, model, config, device, rest_net_flag=False):\n",
        "\n",
        "    # 对于分类任务, 我们常用cross-entropy评估模型表现.\n",
        "    criterion = nn.CrossEntropyLoss(ignore_index=-1)  # 交叉熵计算时，label范围为[0, n_classes-1]\n",
        "    # 初始化优化器\n",
        "    optimizer = torch.optim.Adam(model.parameters(), lr=config['learning_rate'], weight_decay=config['weight_decay'])\n",
        "    # 模型存储位置\n",
        "    save_path =  config['save_path'] if rest_net_flag else  config['resnet_save_path']\n",
        "\n",
        "    writer = SummaryWriter()\n",
        "    if not os.path.isdir('./models'):\n",
        "        os.mkdir('./models')\n",
        "\n",
        "    n_epochs, best_loss, step, early_stop_count = config['n_epochs'], math.inf, 0, 0\n",
        "    for epoch in range(n_epochs):\n",
        "        model.train()\n",
        "        loss_record = []\n",
        "        train_accs = []\n",
        "        train_pbar = tqdm(train_loader, position=0, leave=True)\n",
        "\n",
        "        for x, y in train_pbar:\n",
        "            optimizer.zero_grad()\n",
        "            x, y = x.to(device), y.to(device)\n",
        "            pred = model(x)\n",
        "            loss = criterion(pred, y)\n",
        "            loss.backward()\n",
        "            # 稳定训练的技巧\n",
        "            if config['clip_flag']:\n",
        "                grad_norm = nn.utils.clip_grad_norm_(model.parameters(), max_norm=10)\n",
        "\n",
        "            optimizer.step()\n",
        "            step += 1\n",
        "            acc = (pred.argmax(dim=-1) == y.to(device)).float().mean()\n",
        "            l_ = loss.detach().item()\n",
        "            loss_record.append(l_)\n",
        "            train_accs.append(acc.detach().item())\n",
        "            train_pbar.set_description(f'Epoch [{epoch+1}/{n_epochs}]')\n",
        "            train_pbar.set_postfix({'loss': f'{l_:.5f}', 'acc': f'{acc:.5f}'})\n",
        "\n",
        "\n",
        "        mean_train_acc = sum(train_accs) / len(train_accs)\n",
        "        mean_train_loss = sum(loss_record)/len(loss_record)\n",
        "        writer.add_scalar('Loss/train', mean_train_loss, step)\n",
        "        writer.add_scalar('ACC/train', mean_train_acc, step)\n",
        "        model.eval() # 设置模型为评估模式\n",
        "        loss_record = []\n",
        "        test_accs = []\n",
        "        for x, y in valid_loader:\n",
        "            x, y = x.to(device), y.to(device)\n",
        "            with torch.no_grad():\n",
        "                pred = model(x)\n",
        "                loss = criterion(pred, y)\n",
        "                acc = (pred.argmax(dim=-1) == y.to(device)).float().mean()\n",
        "\n",
        "            loss_record.append(loss.item())\n",
        "            test_accs.append(acc.detach().item())\n",
        "\n",
        "        mean_valid_acc = sum(test_accs) / len(test_accs)\n",
        "        mean_valid_loss = sum(loss_record)/len(loss_record)\n",
        "        print(f'Epoch [{epoch+1}/{n_epochs}]: Train loss: {mean_train_loss:.4f},acc: {mean_train_acc:.4f} Valid loss: {mean_valid_loss:.4f},acc: {mean_valid_acc:.4f} ')\n",
        "        writer.add_scalar('Loss/valid', mean_valid_loss, step)\n",
        "        writer.add_scalar('ACC/valid', mean_valid_acc, step)\n",
        "        if mean_valid_loss < best_loss:\n",
        "            best_loss = mean_valid_loss\n",
        "            torch.save(model.state_dict(), save_path) # 保存最优模型\n",
        "            print('Saving model with loss {:.3f}...'.format(best_loss))\n",
        "            early_stop_count = 0\n",
        "        else:\n",
        "            early_stop_count += 1\n",
        "\n",
        "        if early_stop_count >= config['early_stop']:\n",
        "            print('\\nModel is not improving, so we halt the training session.')\n",
        "            return"
      ]
    },
    {
      "cell_type": "markdown",
      "metadata": {
        "execution": {
          "iopub.execute_input": "2022-11-29T09:40:24.050548Z",
          "iopub.status.busy": "2022-11-29T09:40:24.050038Z",
          "iopub.status.idle": "2022-11-29T09:40:24.055462Z",
          "shell.execute_reply": "2022-11-29T09:40:24.054235Z",
          "shell.execute_reply.started": "2022-11-29T09:40:24.050509Z"
        },
        "id": "uiaaTl72RkD7"
      },
      "source": [
        "# **超参设置**\n",
        "`config` 包含所有训练需要的超参数（便于后续的调参），以及模型需要存储的位置"
      ]
    },
    {
      "cell_type": "code",
      "execution_count": 34,
      "metadata": {
        "execution": {
          "iopub.execute_input": "2022-12-01T14:14:16.228399Z",
          "iopub.status.busy": "2022-12-01T14:14:16.227938Z",
          "iopub.status.idle": "2022-12-01T14:14:16.240770Z",
          "shell.execute_reply": "2022-12-01T14:14:16.239849Z",
          "shell.execute_reply.started": "2022-12-01T14:14:16.228358Z"
        },
        "colab": {
          "base_uri": "https://localhost:8080/"
        },
        "id": "vsMGvQldRkD7",
        "outputId": "ca19addf-c833-4dca-9bae-68212f515034"
      },
      "outputs": [
        {
          "output_type": "stream",
          "name": "stdout",
          "text": [
            "cuda\n",
            "Set env random_seed = 6666\n"
          ]
        }
      ],
      "source": [
        "device = 'cuda' if torch.cuda.is_available() else 'cpu'\n",
        "config = {\n",
        "    'seed': 6666,\n",
        "    'dataset_dir': \"food11\",\n",
        "    'n_epochs': 10,\n",
        "    'batch_size': 64,\n",
        "    'learning_rate': 0.0003,\n",
        "    'weight_decay':1e-5,\n",
        "    'early_stop': 300,\n",
        "    'clip_flag': True,\n",
        "    'save_path': './models/model.ckpt',\n",
        "    'resnet_save_path': './models/resnet_model.ckpt'\n",
        "}\n",
        "print(device)\n",
        "all_seed(config['seed'])"
      ]
    },
    {
      "cell_type": "markdown",
      "metadata": {
        "id": "2o0ObiVPRkD7"
      },
      "source": [
        "# **导入数据集**\n",
        "1. FoodDataset： 用文件路径，transform方法构建数据集\n",
        "2. DataLoader：\n",
        "    - 使用Pytorch中Dataloader类按照Batch将数据集加载"
      ]
    },
    {
      "cell_type": "code",
      "execution_count": 39,
      "metadata": {
        "execution": {
          "iopub.execute_input": "2022-12-01T14:14:39.395140Z",
          "iopub.status.busy": "2022-12-01T14:14:39.394370Z",
          "iopub.status.idle": "2022-12-01T14:14:39.755938Z",
          "shell.execute_reply": "2022-12-01T14:14:39.754870Z",
          "shell.execute_reply.started": "2022-12-01T14:14:39.395100Z"
        },
        "colab": {
          "base_uri": "https://localhost:8080/",
          "height": 340
        },
        "id": "cNSISnyJRkD8",
        "outputId": "6c97dc5e-327c-48e9-e770-5f1074d0332e"
      },
      "outputs": [
        {
          "output_type": "error",
          "ename": "FileNotFoundError",
          "evalue": "[Errno 2] No such file or directory: '../input/ml2022spring-hw3b/food11/training'",
          "traceback": [
            "\u001b[0;31m---------------------------------------------------------------------------\u001b[0m",
            "\u001b[0;31mFileNotFoundError\u001b[0m                         Traceback (most recent call last)",
            "\u001b[0;32m<ipython-input-39-2c79cc40eef3>\u001b[0m in \u001b[0;36m<cell line: 0>\u001b[0;34m()\u001b[0m\n\u001b[1;32m      1\u001b[0m \u001b[0m_dataset_dir\u001b[0m \u001b[0;34m=\u001b[0m \u001b[0mconfig\u001b[0m\u001b[0;34m[\u001b[0m\u001b[0;34m'dataset_dir'\u001b[0m\u001b[0;34m]\u001b[0m\u001b[0;34m\u001b[0m\u001b[0;34m\u001b[0m\u001b[0m\n\u001b[1;32m      2\u001b[0m \u001b[0;34m\u001b[0m\u001b[0m\n\u001b[0;32m----> 3\u001b[0;31m \u001b[0mtrain_set\u001b[0m \u001b[0;34m=\u001b[0m \u001b[0mFoodDataset\u001b[0m\u001b[0;34m(\u001b[0m\u001b[0mos\u001b[0m\u001b[0;34m.\u001b[0m\u001b[0mpath\u001b[0m\u001b[0;34m.\u001b[0m\u001b[0mjoin\u001b[0m\u001b[0;34m(\u001b[0m\u001b[0m_dataset_dir\u001b[0m\u001b[0;34m,\u001b[0m\u001b[0;34m\"training\"\u001b[0m\u001b[0;34m)\u001b[0m\u001b[0;34m,\u001b[0m \u001b[0mtfm\u001b[0m\u001b[0;34m=\u001b[0m\u001b[0mtrain_tfm\u001b[0m\u001b[0;34m)\u001b[0m\u001b[0;34m\u001b[0m\u001b[0;34m\u001b[0m\u001b[0m\n\u001b[0m\u001b[1;32m      4\u001b[0m \u001b[0mtrain_loader\u001b[0m \u001b[0;34m=\u001b[0m \u001b[0mDataLoader\u001b[0m\u001b[0;34m(\u001b[0m\u001b[0mtrain_set\u001b[0m\u001b[0;34m,\u001b[0m \u001b[0mbatch_size\u001b[0m\u001b[0;34m=\u001b[0m\u001b[0mconfig\u001b[0m\u001b[0;34m[\u001b[0m\u001b[0;34m'batch_size'\u001b[0m\u001b[0;34m]\u001b[0m\u001b[0;34m,\u001b[0m \u001b[0mshuffle\u001b[0m\u001b[0;34m=\u001b[0m\u001b[0;32mTrue\u001b[0m\u001b[0;34m,\u001b[0m \u001b[0mnum_workers\u001b[0m\u001b[0;34m=\u001b[0m\u001b[0;36m0\u001b[0m\u001b[0;34m,\u001b[0m \u001b[0mpin_memory\u001b[0m\u001b[0;34m=\u001b[0m\u001b[0;32mTrue\u001b[0m\u001b[0;34m)\u001b[0m\u001b[0;34m\u001b[0m\u001b[0;34m\u001b[0m\u001b[0m\n\u001b[1;32m      5\u001b[0m \u001b[0;34m\u001b[0m\u001b[0m\n",
            "\u001b[0;32m<ipython-input-30-cd931efde98d>\u001b[0m in \u001b[0;36m__init__\u001b[0;34m(self, path, tfm, files)\u001b[0m\n\u001b[1;32m      4\u001b[0m         \u001b[0msuper\u001b[0m\u001b[0;34m(\u001b[0m\u001b[0mFoodDataset\u001b[0m\u001b[0;34m)\u001b[0m\u001b[0;34m.\u001b[0m\u001b[0m__init__\u001b[0m\u001b[0;34m(\u001b[0m\u001b[0;34m)\u001b[0m\u001b[0;34m\u001b[0m\u001b[0;34m\u001b[0m\u001b[0m\n\u001b[1;32m      5\u001b[0m         \u001b[0mself\u001b[0m\u001b[0;34m.\u001b[0m\u001b[0mpath\u001b[0m \u001b[0;34m=\u001b[0m \u001b[0mpath\u001b[0m\u001b[0;34m\u001b[0m\u001b[0;34m\u001b[0m\u001b[0m\n\u001b[0;32m----> 6\u001b[0;31m         \u001b[0mself\u001b[0m\u001b[0;34m.\u001b[0m\u001b[0mfiles\u001b[0m \u001b[0;34m=\u001b[0m \u001b[0msorted\u001b[0m\u001b[0;34m(\u001b[0m\u001b[0;34m[\u001b[0m\u001b[0mos\u001b[0m\u001b[0;34m.\u001b[0m\u001b[0mpath\u001b[0m\u001b[0;34m.\u001b[0m\u001b[0mjoin\u001b[0m\u001b[0;34m(\u001b[0m\u001b[0mpath\u001b[0m\u001b[0;34m,\u001b[0m\u001b[0mx\u001b[0m\u001b[0;34m)\u001b[0m \u001b[0;32mfor\u001b[0m \u001b[0mx\u001b[0m \u001b[0;32min\u001b[0m \u001b[0mos\u001b[0m\u001b[0;34m.\u001b[0m\u001b[0mlistdir\u001b[0m\u001b[0;34m(\u001b[0m\u001b[0mpath\u001b[0m\u001b[0;34m)\u001b[0m \u001b[0;32mif\u001b[0m \u001b[0mx\u001b[0m\u001b[0;34m.\u001b[0m\u001b[0mendswith\u001b[0m\u001b[0;34m(\u001b[0m\u001b[0;34m\".jpg\"\u001b[0m\u001b[0;34m)\u001b[0m\u001b[0;34m]\u001b[0m\u001b[0;34m)\u001b[0m\u001b[0;34m\u001b[0m\u001b[0;34m\u001b[0m\u001b[0m\n\u001b[0m\u001b[1;32m      7\u001b[0m         \u001b[0;32mif\u001b[0m \u001b[0mfiles\u001b[0m \u001b[0;34m!=\u001b[0m \u001b[0;32mNone\u001b[0m\u001b[0;34m:\u001b[0m\u001b[0;34m\u001b[0m\u001b[0;34m\u001b[0m\u001b[0m\n\u001b[1;32m      8\u001b[0m             \u001b[0mself\u001b[0m\u001b[0;34m.\u001b[0m\u001b[0mfiles\u001b[0m \u001b[0;34m=\u001b[0m \u001b[0mfiles\u001b[0m\u001b[0;34m\u001b[0m\u001b[0;34m\u001b[0m\u001b[0m\n",
            "\u001b[0;31mFileNotFoundError\u001b[0m: [Errno 2] No such file or directory: '../input/ml2022spring-hw3b/food11/training'"
          ]
        }
      ],
      "source": [
        "_dataset_dir = config['dataset_dir']\n",
        "\n",
        "train_set = FoodDataset(os.path.join(_dataset_dir,\"training\"), tfm=train_tfm)\n",
        "train_loader = DataLoader(train_set, batch_size=config['batch_size'], shuffle=True, num_workers=0, pin_memory=True)\n",
        "\n",
        "valid_set = FoodDataset(os.path.join(_dataset_dir,\"validation\"), tfm=test_tfm)\n",
        "valid_loader = DataLoader(valid_set, batch_size=config['batch_size'], shuffle=True, num_workers=0, pin_memory=True)\n",
        "\n",
        "# 测试级保证输出顺序一致\n",
        "test_set = FoodDataset(os.path.join(_dataset_dir,\"test\"), tfm=test_tfm)\n",
        "test_loader = DataLoader(test_set, batch_size=config['batch_size'], shuffle=False, num_workers=0, pin_memory=True)"
      ]
    },
    {
      "cell_type": "code",
      "source": [
        "print(_dataset_dir)\n"
      ],
      "metadata": {
        "colab": {
          "base_uri": "https://localhost:8080/"
        },
        "id": "IM6ycD9DvEgC",
        "outputId": "d6d06d3c-52a5-4a7b-df52-bcf2349bfeb2"
      },
      "execution_count": 41,
      "outputs": [
        {
          "output_type": "stream",
          "name": "stdout",
          "text": [
            "../input/ml2022spring-hw3b/food11\n"
          ]
        }
      ]
    },
    {
      "cell_type": "markdown",
      "metadata": {
        "id": "vmMfMHzDRkD8"
      },
      "source": [
        "##  &#x2728; 测试集数据扩增"
      ]
    },
    {
      "cell_type": "code",
      "execution_count": null,
      "metadata": {
        "execution": {
          "iopub.execute_input": "2022-12-01T14:14:58.424611Z",
          "iopub.status.busy": "2022-12-01T14:14:58.423498Z",
          "iopub.status.idle": "2022-12-01T14:14:58.455367Z",
          "shell.execute_reply": "2022-12-01T14:14:58.454288Z",
          "shell.execute_reply.started": "2022-12-01T14:14:58.424573Z"
        },
        "id": "fLcdiIYARkD8",
        "outputId": "5487fcb2-50b9-44ac-aac0-78762fffbf56"
      },
      "outputs": [
        {
          "name": "stdout",
          "output_type": "stream",
          "text": [
            "One ../input/ml2022spring-hw3b/food11/test sample ../input/ml2022spring-hw3b/food11/test/0001.jpg\n",
            "One ../input/ml2022spring-hw3b/food11/test sample ../input/ml2022spring-hw3b/food11/test/0001.jpg\n",
            "One ../input/ml2022spring-hw3b/food11/test sample ../input/ml2022spring-hw3b/food11/test/0001.jpg\n"
          ]
        }
      ],
      "source": [
        "test_set = FoodDataset(os.path.join(_dataset_dir,\"test\"), tfm=train_tfm)\n",
        "test_loader_extra1 = DataLoader(test_set, batch_size=config['batch_size'], shuffle=False, num_workers=0, pin_memory=True)\n",
        "\n",
        "test_set = FoodDataset(os.path.join(_dataset_dir,\"test\"), tfm=train_tfm)\n",
        "test_loader_extra2 = DataLoader(test_set, batch_size=config['batch_size'], shuffle=False, num_workers=0, pin_memory=True)\n",
        "\n",
        "test_set = FoodDataset(os.path.join(_dataset_dir,\"test\"), tfm=train_tfm)\n",
        "test_loader_extra3 = DataLoader(test_set, batch_size=config['batch_size'], shuffle=False, num_workers=0, pin_memory=True)"
      ]
    },
    {
      "cell_type": "markdown",
      "metadata": {
        "id": "jUf26HkVRkD8"
      },
      "source": [
        "#  &#x1F4CC; **开始训练！**"
      ]
    },
    {
      "cell_type": "code",
      "execution_count": null,
      "metadata": {
        "execution": {
          "iopub.execute_input": "2022-12-01T14:15:00.074967Z",
          "iopub.status.busy": "2022-12-01T14:15:00.074237Z",
          "iopub.status.idle": "2022-12-01T14:38:51.550813Z",
          "shell.execute_reply": "2022-12-01T14:38:51.549612Z",
          "shell.execute_reply.started": "2022-12-01T14:15:00.074929Z"
        },
        "id": "BIhkjfVaRkD8",
        "outputId": "5ac016db-3c9a-4927-ce99-5e222053afff"
      },
      "outputs": [
        {
          "name": "stderr",
          "output_type": "stream",
          "text": [
            "Epoch [1/10]: 100%|██████████| 155/155 [02:33<00:00,  1.01it/s, loss=1.91911, acc=0.30000]\n"
          ]
        },
        {
          "name": "stdout",
          "output_type": "stream",
          "text": [
            "Epoch [1/10]: Train loss: 2.1657,acc: 0.2353 Valid loss: 2.0037,acc: 0.2979 \n",
            "Saving model with loss 2.004...\n"
          ]
        },
        {
          "name": "stderr",
          "output_type": "stream",
          "text": [
            "Epoch [2/10]: 100%|██████████| 155/155 [01:46<00:00,  1.46it/s, loss=2.27553, acc=0.30000]\n"
          ]
        },
        {
          "name": "stdout",
          "output_type": "stream",
          "text": [
            "Epoch [2/10]: Train loss: 1.9697,acc: 0.3081 Valid loss: 1.8442,acc: 0.3608 \n",
            "Saving model with loss 1.844...\n"
          ]
        },
        {
          "name": "stderr",
          "output_type": "stream",
          "text": [
            "Epoch [3/10]: 100%|██████████| 155/155 [01:45<00:00,  1.47it/s, loss=2.40143, acc=0.20000]\n"
          ]
        },
        {
          "name": "stdout",
          "output_type": "stream",
          "text": [
            "Epoch [3/10]: Train loss: 1.8279,acc: 0.3557 Valid loss: 1.6518,acc: 0.4205 \n",
            "Saving model with loss 1.652...\n"
          ]
        },
        {
          "name": "stderr",
          "output_type": "stream",
          "text": [
            "Epoch [4/10]: 100%|██████████| 155/155 [01:44<00:00,  1.48it/s, loss=1.29564, acc=0.60000]\n"
          ]
        },
        {
          "name": "stdout",
          "output_type": "stream",
          "text": [
            "Epoch [4/10]: Train loss: 1.7120,acc: 0.4011 Valid loss: 1.6256,acc: 0.4518 \n",
            "Saving model with loss 1.626...\n"
          ]
        },
        {
          "name": "stderr",
          "output_type": "stream",
          "text": [
            "Epoch [5/10]: 100%|██████████| 155/155 [01:44<00:00,  1.49it/s, loss=1.84821, acc=0.20000]\n"
          ]
        },
        {
          "name": "stdout",
          "output_type": "stream",
          "text": [
            "Epoch [5/10]: Train loss: 1.6128,acc: 0.4350 Valid loss: 1.5643,acc: 0.4674 \n",
            "Saving model with loss 1.564...\n"
          ]
        },
        {
          "name": "stderr",
          "output_type": "stream",
          "text": [
            "Epoch [6/10]: 100%|██████████| 155/155 [01:45<00:00,  1.48it/s, loss=1.33658, acc=0.50000]\n"
          ]
        },
        {
          "name": "stdout",
          "output_type": "stream",
          "text": [
            "Epoch [6/10]: Train loss: 1.5153,acc: 0.4744 Valid loss: 1.5481,acc: 0.4790 \n",
            "Saving model with loss 1.548...\n"
          ]
        },
        {
          "name": "stderr",
          "output_type": "stream",
          "text": [
            "Epoch [7/10]: 100%|██████████| 155/155 [01:43<00:00,  1.49it/s, loss=1.77026, acc=0.20000]\n"
          ]
        },
        {
          "name": "stdout",
          "output_type": "stream",
          "text": [
            "Epoch [7/10]: Train loss: 1.4478,acc: 0.4941 Valid loss: 1.3122,acc: 0.5551 \n",
            "Saving model with loss 1.312...\n"
          ]
        },
        {
          "name": "stderr",
          "output_type": "stream",
          "text": [
            "Epoch [8/10]: 100%|██████████| 155/155 [01:43<00:00,  1.50it/s, loss=1.86086, acc=0.40000]\n"
          ]
        },
        {
          "name": "stdout",
          "output_type": "stream",
          "text": [
            "Epoch [8/10]: Train loss: 1.3810,acc: 0.5244 Valid loss: 1.3743,acc: 0.5518 \n"
          ]
        },
        {
          "name": "stderr",
          "output_type": "stream",
          "text": [
            "Epoch [9/10]: 100%|██████████| 155/155 [01:43<00:00,  1.49it/s, loss=1.02253, acc=0.70000]\n"
          ]
        },
        {
          "name": "stdout",
          "output_type": "stream",
          "text": [
            "Epoch [9/10]: Train loss: 1.3206,acc: 0.5451 Valid loss: 1.1828,acc: 0.5944 \n",
            "Saving model with loss 1.183...\n"
          ]
        },
        {
          "name": "stderr",
          "output_type": "stream",
          "text": [
            "Epoch [10/10]: 100%|██████████| 155/155 [01:43<00:00,  1.49it/s, loss=1.32645, acc=0.60000]\n"
          ]
        },
        {
          "name": "stdout",
          "output_type": "stream",
          "text": [
            "Epoch [10/10]: Train loss: 1.2465,acc: 0.5692 Valid loss: 1.2682,acc: 0.5567 \n"
          ]
        }
      ],
      "source": [
        "model = Classifier().to(device)\n",
        "trainer(train_loader, valid_loader, model, config, device)"
      ]
    },
    {
      "cell_type": "markdown",
      "metadata": {
        "id": "sk-e6LNMRkD8"
      },
      "source": [
        "# **测试并生成预测结果的csv**"
      ]
    },
    {
      "cell_type": "code",
      "execution_count": null,
      "metadata": {
        "execution": {
          "iopub.execute_input": "2022-12-01T14:40:03.813830Z",
          "iopub.status.busy": "2022-12-01T14:40:03.813183Z",
          "iopub.status.idle": "2022-12-01T14:40:03.947539Z",
          "shell.execute_reply": "2022-12-01T14:40:03.946198Z",
          "shell.execute_reply.started": "2022-12-01T14:40:03.813792Z"
        },
        "jupyter": {
          "outputs_hidden": true
        },
        "id": "NcAUnO0_RkD8"
      },
      "outputs": [],
      "source": [
        "model_best = Classifier().to(device)\n",
        "model_best.load_state_dict(torch.load(config['save_path']))\n",
        "model_best.eval()\n",
        "prediction = []\n",
        "with torch.no_grad():\n",
        "    for data,_ in test_loader:\n",
        "        test_pred = model_best(data.to(device))\n",
        "        test_label = np.argmax(test_pred.cpu().data.numpy(), axis=1)\n",
        "        prediction += test_label.squeeze().tolist()\n"
      ]
    },
    {
      "cell_type": "markdown",
      "metadata": {
        "jupyter": {
          "source_hidden": true
        },
        "id": "gf5IqYNsRkD9"
      },
      "source": [
        "##  &#x2728; soft vote（软投票）预测\n",
        "- 用扩增数据进行四次测试接预测，然后用soft_vote（软投票）的方法进行预测\n",
        "![](https://github.com/datawhalechina/leedl-tutorial/blob/master/Homework/HW3_CNN/pic/testAug.png?raw=1)"
      ]
    },
    {
      "cell_type": "code",
      "execution_count": null,
      "metadata": {
        "execution": {
          "iopub.execute_input": "2022-12-01T14:40:29.042468Z",
          "iopub.status.busy": "2022-12-01T14:40:29.042085Z",
          "iopub.status.idle": "2022-12-01T14:42:47.685883Z",
          "shell.execute_reply": "2022-12-01T14:42:47.684977Z",
          "shell.execute_reply.started": "2022-12-01T14:40:29.042434Z"
        },
        "id": "33m_a7a0RkD9",
        "outputId": "5eb6365e-88b6-4302-b23d-48e834687b00"
      },
      "outputs": [
        {
          "name": "stderr",
          "output_type": "stream",
          "text": [
            "[ DataLoader 1/4 ]: 100%|██████████| 53/53 [00:44<00:00,  1.19it/s]\n",
            "[ DataLoader 2/4 ]: 100%|██████████| 53/53 [00:31<00:00,  1.67it/s]\n",
            "[ DataLoader 3/4 ]: 100%|██████████| 53/53 [00:31<00:00,  1.66it/s]\n",
            "[ DataLoader 4/4 ]: 100%|██████████| 53/53 [00:30<00:00,  1.74it/s]\n"
          ]
        }
      ],
      "source": [
        "test_loaders = [test_loader_extra1, test_loader_extra2, test_loader_extra3, test_loader]\n",
        "loader_nums = len(test_loaders)\n",
        "# 存储每个dataloader预测结果，一个dataloader一个数组\n",
        "loader_pred_list = []\n",
        "for idx, d_loader in enumerate(test_loaders):\n",
        "    # 存储一个dataloader的预测结果,  一个batch一个是数组\n",
        "    pred_arr_list = []\n",
        "    with torch.no_grad():\n",
        "        tq_bar = tqdm(d_loader)\n",
        "        tq_bar.set_description(f\"[ DataLoader {idx+1}/{loader_nums} ]\")\n",
        "        for data,_ in tq_bar:\n",
        "            test_pred = model_best(data.to(device))\n",
        "            logit_pred = test_pred.cpu().data.numpy()\n",
        "            pred_arr_list.append(logit_pred)\n",
        "        # 将每个batch的预测结果合并成一个数组\n",
        "        loader_pred_list.append( np.concatenate(pred_arr_list, axis=0) )\n",
        "\n",
        "\n",
        "# 将预测结果合并\n",
        "pred_arr = np.zeros(loader_pred_list[0].shape)\n",
        "for pred_arr_t in loader_pred_list:\n",
        "    pred_arr += pred_arr_t\n",
        "\n",
        "\n",
        "soft_vote_prediction = np.argmax(0.5 * pred_arr / len(loader_pred_list) + 0.5 * loader_pred_list[-1], axis=1)"
      ]
    },
    {
      "cell_type": "code",
      "execution_count": null,
      "metadata": {
        "execution": {
          "iopub.execute_input": "2022-12-01T14:42:47.688278Z",
          "iopub.status.busy": "2022-12-01T14:42:47.687892Z",
          "iopub.status.idle": "2022-12-01T14:42:47.712049Z",
          "shell.execute_reply": "2022-12-01T14:42:47.710767Z",
          "shell.execute_reply.started": "2022-12-01T14:42:47.688241Z"
        },
        "id": "Dd31EywTRkD9"
      },
      "outputs": [],
      "source": [
        "df = pd.DataFrame()\n",
        "# 保证ID为四位数（前面填充0）\n",
        "df[\"Id\"] = [str(i).zfill(4) for i in range(1, len(test_set)+1)]\n",
        "df[\"Category\"] = soft_vote_prediction\n",
        "df.to_csv(\"submission.csv\",index = False)"
      ]
    },
    {
      "cell_type": "markdown",
      "metadata": {
        "id": "j3caF1s6RkD9"
      },
      "source": [
        "## Q2. 残差网络（Residual Net）"
      ]
    },
    {
      "cell_type": "code",
      "execution_count": null,
      "metadata": {
        "execution": {
          "iopub.status.busy": "2022-12-01T14:38:51.974635Z",
          "iopub.status.idle": "2022-12-01T14:38:51.977023Z",
          "shell.execute_reply": "2022-12-01T14:38:51.976733Z",
          "shell.execute_reply.started": "2022-12-01T14:38:51.976707Z"
        },
        "id": "7AZfBLYORkD9"
      },
      "outputs": [],
      "source": [
        "# 残差网络\n",
        "resNet = resNet.to(device)\n",
        "trainer(train_loader, valid_loader, resNet, config, device)"
      ]
    },
    {
      "cell_type": "code",
      "execution_count": null,
      "metadata": {
        "execution": {
          "iopub.status.busy": "2022-12-01T14:38:51.979372Z",
          "iopub.status.idle": "2022-12-01T14:38:51.980293Z",
          "shell.execute_reply": "2022-12-01T14:38:51.980069Z",
          "shell.execute_reply.started": "2022-12-01T14:38:51.980044Z"
        },
        "id": "Z-DPalA-RkD9"
      },
      "outputs": [],
      "source": [
        "model_best = resNet.to(device)\n",
        "model_best.load_state_dict(torch.load(config['resnet_save_path']))\n",
        "model_best.eval()\n",
        "test_loaders = [test_loader_extra1, test_loader_extra2, test_loader_extra3, test_loader]\n",
        "loader_nums = len(test_loaders)\n",
        "# 存储每个dataloader预测结果，一个dataloader一个数组\n",
        "loader_pred_list = []\n",
        "for idx, d_loader in enumerate(test_loaders):\n",
        "    # 存储一个dataloader的预测结果,  一个batch一个数组\n",
        "    pred_arr_list = []\n",
        "    with torch.no_grad():\n",
        "        tq_bar = tqdm(d_loader)\n",
        "        tq_bar.set_description(f\"[ DataLoader {idx+1}/{loader_nums} ]\")\n",
        "        for data,_ in tq_bar:\n",
        "            test_pred = model_best(data.to(device))\n",
        "            logit_pred = test_pred.cpu().data.numpy()\n",
        "            pred_arr_list.append(logit_pred)\n",
        "        # 将每个batch的预测结果合并成一个数组\n",
        "        loader_pred_list.append( np.concatenate(pred_arr_list, axis=0) )\n",
        "\n",
        "\n",
        "# 将预测结果合并\n",
        "pred_arr = np.zeros(loader_pred_list[0].shape)\n",
        "for pred_arr_t in loader_pred_list:\n",
        "    pred_arr += pred_arr_t\n",
        "\n",
        "\n",
        "soft_vote_prediction = np.argmax(0.5 * pred_arr / len(loader_pred_list) + 0.5 * loader_pred_list[-1], axis=1)"
      ]
    },
    {
      "cell_type": "code",
      "execution_count": null,
      "metadata": {
        "execution": {
          "iopub.status.busy": "2022-12-01T14:38:51.982144Z",
          "iopub.status.idle": "2022-12-01T14:38:51.984682Z",
          "shell.execute_reply": "2022-12-01T14:38:51.984386Z",
          "shell.execute_reply.started": "2022-12-01T14:38:51.984360Z"
        },
        "id": "FLx8XQuGRkD-"
      },
      "outputs": [],
      "source": [
        "df = pd.DataFrame()\n",
        "# 保证ID为四位数（前面填充0）\n",
        "df[\"Id\"] = [str(i).zfill(4) for i in range(1, len(test_set)+1)]\n",
        "df[\"Category\"] = soft_vote_prediction\n",
        "df.to_csv(\"submission.csv\",index = False)"
      ]
    },
    {
      "cell_type": "markdown",
      "metadata": {
        "id": "X-1qGKfgRkD-"
      },
      "source": [
        "# 贡献者\n",
        "\n",
        "孙成超\n",
        "- Github: https://github.com/scchy\n",
        "- Email: hyscc1994@foxmail.com"
      ]
    },
    {
      "cell_type": "code",
      "source": [],
      "metadata": {
        "id": "SGmGy0RWu-m0"
      },
      "execution_count": null,
      "outputs": []
    }
  ],
  "metadata": {
    "kernelspec": {
      "display_name": "Python 3",
      "name": "python3"
    },
    "language_info": {
      "codemirror_mode": {
        "name": "ipython",
        "version": 3
      },
      "file_extension": ".py",
      "mimetype": "text/x-python",
      "name": "python",
      "nbconvert_exporter": "python",
      "pygments_lexer": "ipython3",
      "version": "3.7.4"
    },
    "colab": {
      "provenance": [],
      "gpuType": "T4"
    },
    "accelerator": "GPU"
  },
  "nbformat": 4,
  "nbformat_minor": 0
}